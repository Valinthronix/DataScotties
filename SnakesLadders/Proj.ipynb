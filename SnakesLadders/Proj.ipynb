{
 "cells": [
  {
   "cell_type": "markdown",
   "metadata": {},
   "source": [
    "# 1. Different editions of the game"
   ]
  },
  {
   "cell_type": "markdown",
   "metadata": {},
   "source": [
    "## 1.1"
   ]
  },
  {
   "cell_type": "code",
   "execution_count": 75,
   "metadata": {
    "collapsed": false
   },
   "outputs": [],
   "source": [
    "import json\n",
    "\n",
    "custom = {\n",
    "    'size': 100,\n",
    "    'diesides' : 6,\n",
    "    'snakes' : [(6, 4), (10, 6), (23, 19), (38, 13), (44, 8), (58, 28), (68, 65), (76, 51), (82, 45), (98, 76)],\n",
    "    'ladders' : [(8, 25), (19, 53), (23, 48), (32, 46), (44, 50), (58, 83), (65, 71), (76, 90), (89, 96), (94, 95)],\n",
    "    'name' : 'custom',\n",
    "    'URL' : None\n",
    "}\n",
    "\n",
    "jsonc = json.dumps(custom)"
   ]
  },
  {
   "cell_type": "code",
   "execution_count": 74,
   "metadata": {
    "collapsed": false,
    "scrolled": true
   },
   "outputs": [],
   "source": [
    "import random\n",
    "\n",
    "results = []\n",
    "for i in range(10):\n",
    "    j = 10*i\n",
    "    j += random.randint(0,9)\n",
    "    link = random.randint(j-20, j-1)\n",
    "    if link <= 1:\n",
    "        link = random.randint(1,j-1)\n",
    "    results.append((j,link))\n"
   ]
  },
  {
   "cell_type": "markdown",
   "metadata": {},
   "source": [
    "## 1.2"
   ]
  },
  {
   "cell_type": "code",
   "execution_count": 78,
   "metadata": {
    "collapsed": true
   },
   "outputs": [],
   "source": [
    "def validate_setup(d):\n",
    "    \"\"\"\n",
    "    Validate keys and top-level types of values for game setup dictionary, raising a\n",
    "      KeyError or TypeError if invalid, otherwise silent.\n",
    "    Does not distinguish list or tuple types of snakes/ladders pairs.\n",
    "    Does not check other data constraints, such as snakes or ladder pair values being\n",
    "      not equal or clashing with another pair's values.\n",
    "    \"\"\"\n",
    "    keys = sorted(d.keys())\n",
    "    need_keys = sorted(['size', 'snakes', 'ladders', 'diesides', 'name', 'URL'])\n",
    "    if keys != need_keys:\n",
    "        raise KeyError(\"Correct keys not present in setup dictionary\")\n",
    "    if not isinstance(d['size'], int):\n",
    "        raise TypeError(\"'size' must be int\")\n",
    "    if not isinstance(d['diesides'], int):\n",
    "        raise TypeError(\"'diesides' must be int\")\n",
    "    active = [False*100] # my code! used to make sure there is only one link per tile\n",
    "    for kind in ('snakes', 'ladders'):\n",
    "        if isinstance(d[kind], (list, tuple)):\n",
    "            try:\n",
    "                for i1, i2 in d[kind]:\n",
    "                    if active[i1] or active[i2]: #raises an error when there's more than one link per square\n",
    "                        raise GameError(\"Maximum of one link per square\")\n",
    "                    active[i1]=True # mine. records that this square has a link\n",
    "                    active[i2]=True # mine. same as above\n",
    "                    # this loop is agnostic about type of sequence\n",
    "                    if not isinstance(i1+i2, int):\n",
    "                        raise TypeError(\"'{}' must be a sequence of pairs of ints\".format(kind))\n",
    "            except ValueError:\n",
    "                # too many or not enough values to unpack from d['snakes']\n",
    "                raise TypeError(\"'{}' must be a sequence of pairs of ints\".format(kind))\n",
    "        else:\n",
    "            raise TypeError(\"'{}' must be a sequence of pairs of ints\".format(kind))\n",
    "\n",
    "    \n",
    "        \n",
    "def standardize_setup(d):\n",
    "    # don't standardize if valid\n",
    "    validate_setup(d)\n",
    "    r = d.copy() # copy\n",
    "    r['snakes'] = [tuple(p) for p in d['snakes']]\n",
    "    r['ladders'] = [tuple(p) for p in d['ladders']]\n",
    "    return r"
   ]
  },
  {
   "cell_type": "code",
   "execution_count": null,
   "metadata": {
    "collapsed": true
   },
   "outputs": [],
   "source": []
  }
 ],
 "metadata": {
  "kernelspec": {
   "display_name": "Python 3",
   "language": "python",
   "name": "python3"
  },
  "language_info": {
   "codemirror_mode": {
    "name": "ipython",
    "version": 3
   },
   "file_extension": ".py",
   "mimetype": "text/x-python",
   "name": "python",
   "nbconvert_exporter": "python",
   "pygments_lexer": "ipython3",
   "version": "3.5.1"
  }
 },
 "nbformat": 4,
 "nbformat_minor": 0
}
