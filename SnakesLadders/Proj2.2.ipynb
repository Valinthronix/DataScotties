{
 "cells": [
  {
   "cell_type": "markdown",
   "metadata": {},
   "source": [
    "# 5. Another Measure of Recurrent Behavior"
   ]
  },
  {
   "cell_type": "markdown",
   "metadata": {},
   "source": [
    "### 5.1"
   ]
  },
  {
   "cell_type": "code",
   "execution_count": 11,
   "metadata": {
    "collapsed": false
   },
   "outputs": [
    {
     "name": "stdout",
     "output_type": "stream",
     "text": [
      "1\n"
     ]
    }
   ],
   "source": [
    "A = {\n",
    "    'size': 100,\n",
    "    'diesides' : 6,\n",
    "    'snakes' : [(16,6), (47,26), (49,11 ), (56,53), (62,19), (64,60), (87,24), (93,73), (95,75), (98, 78)],\n",
    "    'ladders' : [(1, 38), (4, 14), (9, 31), (28, 84), (21, 42), (36, 44), (51, 67), (71, 81), (80, 100)],\n",
    "    'name' : \"Milton Bradley\",\n",
    "    'URL' : \"https://upload.wikimedia.org/wikipedia/en/b/ba/Cnl03.jpg\"\n",
    "}\n",
    "\n",
    "def detect_2_cycles(setup):\n",
    "    link = []\n",
    "    cycles = 0\n",
    "    for i in range(setup['size']+1):\n",
    "        link.append(i)\n",
    "    link[100] = 101\n",
    "    snakes = setup['snakes']\n",
    "    for snake in snakes:\n",
    "        link[snake[0]] = snake[1]\n",
    "    ladders = setup['ladders']\n",
    "    for ladder in ladders:\n",
    "        link[ladder[0]] = ladder[1]\n",
    "    for ladder in ladders:\n",
    "        step = ladder[1]\n",
    "        while not (link[step] > step):\n",
    "            if link[step] < ladder[0]:\n",
    "                jump_before = False\n",
    "                for second_step in range(link[step], ladder[0]):\n",
    "                    if link[second_step] != second_step:\n",
    "                        jump_before = True\n",
    "                if jump_before == False:\n",
    "                    cycles += 1\n",
    "                    break\n",
    "                else:\n",
    "                    break\n",
    "            else:\n",
    "                step += 1\n",
    "    return cycles\n",
    "        \n",
    "    \n",
    "print(detect_2_cycles(A))     "
   ]
  }
 ],
 "metadata": {
  "kernelspec": {
   "display_name": "Python 3",
   "language": "python",
   "name": "python3"
  },
  "language_info": {
   "codemirror_mode": {
    "name": "ipython",
    "version": 3
   },
   "file_extension": ".py",
   "mimetype": "text/x-python",
   "name": "python",
   "nbconvert_exporter": "python",
   "pygments_lexer": "ipython3",
   "version": "3.5.1"
  }
 },
 "nbformat": 4,
 "nbformat_minor": 0
}
