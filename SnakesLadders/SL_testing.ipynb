{
 "cells": [
  {
   "cell_type": "code",
   "execution_count": 1,
   "metadata": {
    "collapsed": false
   },
   "outputs": [],
   "source": [
    "import SnakesLadders as SL"
   ]
  },
  {
   "cell_type": "code",
   "execution_count": 3,
   "metadata": {
    "collapsed": false
   },
   "outputs": [],
   "source": [
    "game = SL.GameFSM(16)\n",
    "\n",
    "# Make ladders\n",
    "game.all_states[2].link = 10\n",
    "game.all_states[8].link = 14\n",
    "\n",
    "# Make snakes\n",
    "game.all_states[11].link = 4\n",
    "game.all_states[15].links = 6\n"
   ]
  },
  {
   "cell_type": "code",
   "execution_count": 5,
   "metadata": {
    "collapsed": false,
    "scrolled": true
   },
   "outputs": [
    {
     "name": "stdout",
     "output_type": "stream",
     "text": [
      "Starting game!\n",
      "Game over!\n",
      "[{'die': 3, 'kind': 'B', 'end': 3, 'start': 0}, {'die': 2, 'kind': 'B', 'end': 5, 'start': 3}, {'die': 2, 'kind': 'B', 'end': 7, 'start': 5}, {'die': 2, 'kind': 'B', 'end': 9, 'start': 7}, {'die': 2, 'kind': 'S', 'end': 4, 'start': 9}, {'die': 2, 'kind': 'B', 'end': 6, 'start': 4}, {'die': 4, 'kind': 'B', 'end': 10, 'start': 6}, {'die': 3, 'kind': 'B', 'end': 13, 'start': 10}, {'die': 2, 'kind': 'B', 'end': 15, 'start': 13}, {'die': 1, 'kind': 'B', 'end': 16, 'start': 15}]\n",
      "10\n",
      "(1, 0)\n"
     ]
    }
   ],
   "source": [
    "game.run()\n",
    "print(game.records)\n",
    "print(SL.count_moves(game.records))\n",
    "print(SL.count_snakes_and_ladders(game.records))"
   ]
  },
  {
   "cell_type": "code",
   "execution_count": null,
   "metadata": {
    "collapsed": true
   },
   "outputs": [],
   "source": []
  }
 ],
 "metadata": {
  "kernelspec": {
   "display_name": "Python 3",
   "language": "python",
   "name": "python3"
  },
  "language_info": {
   "codemirror_mode": {
    "name": "ipython",
    "version": 3
   },
   "file_extension": ".py",
   "mimetype": "text/x-python",
   "name": "python",
   "nbconvert_exporter": "python",
   "pygments_lexer": "ipython3",
   "version": "3.5.1"
  }
 },
 "nbformat": 4,
 "nbformat_minor": 0
}
