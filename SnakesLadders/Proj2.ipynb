{
 "cells": [
  {
   "cell_type": "markdown",
   "metadata": {},
   "source": [
    "# 3. Basic Comparisons of Editions"
   ]
  },
  {
   "cell_type": "code",
   "execution_count": 42,
   "metadata": {
    "collapsed": true
   },
   "outputs": [],
   "source": [
    "import csv_utils\n",
    "import pandas\n",
    "from pprint import pprint\n",
    "%matplotlib inline\n",
    "\n",
    "A_data = csv_utils.load_csv('A_data.csv')\n",
    "B_data = csv_utils.load_csv('B_data.csv')\n",
    "C_data = csv_utils.load_csv('C_data.csv')\n",
    "\n",
    "all_data = [A_data, B_data, C_data]"
   ]
  },
  {
   "cell_type": "markdown",
   "metadata": {},
   "source": [
    "Loading the csv data into individual lists of DataFrames. I create all_data to contain them here because it is handy to iterate through that so I don't have to write the same code three times later."
   ]
  },
  {
   "cell_type": "markdown",
   "metadata": {
    "collapsed": true
   },
   "source": [
    "### Game Length"
   ]
  },
  {
   "cell_type": "code",
   "execution_count": 52,
   "metadata": {
    "collapsed": false
   },
   "outputs": [
    {
     "data": {
      "text/html": [
       "<div>\n",
       "<table border=\"1\" class=\"dataframe\">\n",
       "  <thead>\n",
       "    <tr style=\"text-align: right;\">\n",
       "      <th></th>\n",
       "      <th>A</th>\n",
       "      <th>B</th>\n",
       "      <th>C</th>\n",
       "    </tr>\n",
       "  </thead>\n",
       "  <tbody>\n",
       "    <tr>\n",
       "      <th>count</th>\n",
       "      <td>1000.000000</td>\n",
       "      <td>1000.000000</td>\n",
       "      <td>1000.000000</td>\n",
       "    </tr>\n",
       "    <tr>\n",
       "      <th>mean</th>\n",
       "      <td>38.240000</td>\n",
       "      <td>50.150000</td>\n",
       "      <td>27.859000</td>\n",
       "    </tr>\n",
       "    <tr>\n",
       "      <th>std</th>\n",
       "      <td>24.188623</td>\n",
       "      <td>41.877742</td>\n",
       "      <td>13.251291</td>\n",
       "    </tr>\n",
       "    <tr>\n",
       "      <th>min</th>\n",
       "      <td>7.000000</td>\n",
       "      <td>8.000000</td>\n",
       "      <td>8.000000</td>\n",
       "    </tr>\n",
       "    <tr>\n",
       "      <th>25%</th>\n",
       "      <td>21.000000</td>\n",
       "      <td>21.000000</td>\n",
       "      <td>19.000000</td>\n",
       "    </tr>\n",
       "    <tr>\n",
       "      <th>50%</th>\n",
       "      <td>32.000000</td>\n",
       "      <td>38.000000</td>\n",
       "      <td>25.000000</td>\n",
       "    </tr>\n",
       "    <tr>\n",
       "      <th>75%</th>\n",
       "      <td>49.000000</td>\n",
       "      <td>66.000000</td>\n",
       "      <td>34.000000</td>\n",
       "    </tr>\n",
       "    <tr>\n",
       "      <th>max</th>\n",
       "      <td>222.000000</td>\n",
       "      <td>338.000000</td>\n",
       "      <td>114.000000</td>\n",
       "    </tr>\n",
       "  </tbody>\n",
       "</table>\n",
       "</div>"
      ],
      "text/plain": [
       "                 A            B            C\n",
       "count  1000.000000  1000.000000  1000.000000\n",
       "mean     38.240000    50.150000    27.859000\n",
       "std      24.188623    41.877742    13.251291\n",
       "min       7.000000     8.000000     8.000000\n",
       "25%      21.000000    21.000000    19.000000\n",
       "50%      32.000000    38.000000    25.000000\n",
       "75%      49.000000    66.000000    34.000000\n",
       "max     222.000000   338.000000   114.000000"
      ]
     },
     "execution_count": 52,
     "metadata": {},
     "output_type": "execute_result"
    },
    {
     "data": {
      "image/png": "[encoded data removed]",
      "text/plain": [
       "<matplotlib.figure.Figure at 0x14edc8cf8>"
      ]
     },
     "metadata": {},
     "output_type": "display_data"
    }
   ],
   "source": [
    "A_length_df = pandas.DataFrame({'A' : [len(run) for run in A_data]})\n",
    "B_length_df = pandas.DataFrame({'B' : [len(run) for run in B_data]})\n",
    "C_length_df = pandas.DataFrame({'C' : [len(run) for run in C_data]})\n",
    "\n",
    "length_df = A_length_df.join(B_length_df.join(C_length_df))\n",
    "maximum =(max(max(length_df['A']),max(length_df['B']),max(length_df['C'])))\n",
    "minimum =(min(min(length_df['A']),min(length_df['B']),min(length_df['C'])))\n",
    "length_df.hist(bins=(maximum-minimum+2))\n",
    "length_df.describe()"
   ]
  },
  {
   "cell_type": "markdown",
   "metadata": {},
   "source": [
    "# 4. Define \"Loopiness\" of a Game"
   ]
  },
  {
   "cell_type": "markdown",
   "metadata": {},
   "source": [
    "### 4.1"
   ]
  },
  {
   "cell_type": "code",
   "execution_count": 1,
   "metadata": {
    "collapsed": true
   },
   "outputs": [],
   "source": [
    "import json\n",
    "# Counts the number of times a specific snake/ladder was used in ONE game\n",
    "def count_use(df, start):\n",
    "    count = 0\n",
    "    for i in range(len(df)):\n",
    "        if (int(df['start'][i]) + int(df['die'][i])) == start:\n",
    "            count += 1\n",
    "    return count\n",
    "\n",
    "setups = json.load(open('setups.json', 'r'))\n",
    "A_starts = [snake[0] for snake in setups[0]['snakes']]\n",
    "B_starts = [snake[0] for snake in setups[1]['snakes']]\n",
    "C_starts = [snake[0] for snake in setups[2]['snakes']]\n"
   ]
  },
  {
   "cell_type": "markdown",
   "metadata": {},
   "source": [
    "Here's my count_use function, which takes in a DataFrame that represents a run of the game and a start of a link (that I assume is a snake, but it doesn't actually matter to the function. It really just counts the number of times you land on a square) and outputs how many times that start was landed on.\n",
    "\n",
    "After that, I create three lists just containing the starts of the snakes of each setup. This is easier to iterate through than the snakes themself. I reference my earlier created setups.json file to do this. The next step takes a bit of explanation, so I would recommend reading the markdown below it first."
   ]
  },
  {
   "cell_type": "code",
   "execution_count": 35,
   "metadata": {
    "collapsed": false
   },
   "outputs": [
    {
     "name": "stdout",
     "output_type": "stream",
     "text": [
      "0.0% complete with board 1\n",
      "10.0% complete with board 1\n",
      "20.0% complete with board 1\n",
      "30.0% complete with board 1\n",
      "40.0% complete with board 1\n",
      "50.0% complete with board 1\n",
      "60.0% complete with board 1\n",
      "70.0% complete with board 1\n",
      "80.0% complete with board 1\n",
      "90.0% complete with board 1\n",
      "0.0% complete with board 2\n",
      "10.0% complete with board 2\n",
      "20.0% complete with board 2\n",
      "30.0% complete with board 2\n",
      "40.0% complete with board 2\n",
      "50.0% complete with board 2\n",
      "60.0% complete with board 2\n",
      "70.0% complete with board 2\n",
      "80.0% complete with board 2\n",
      "90.0% complete with board 2\n",
      "0.0% complete with board 3\n",
      "10.0% complete with board 3\n",
      "20.0% complete with board 3\n",
      "30.0% complete with board 3\n",
      "40.0% complete with board 3\n",
      "50.0% complete with board 3\n",
      "60.0% complete with board 3\n",
      "70.0% complete with board 3\n",
      "80.0% complete with board 3\n",
      "90.0% complete with board 3\n",
      "     16  47  49  56  62  64  87  93  95  98\n",
      "0     0   0   0   0   0   1   0   0   0   0\n",
      "1     0   0   0   0   0   1   0   0   0   0\n",
      "2     1   0   2   0   0   0   0   0   0   1\n",
      "3     0   0   0   1   0   0   0   0   0   0\n",
      "4     2   2   2   1   1   0   1   0   1   0\n",
      "5     0   3   0   0   0   0   1   3   0   0\n",
      "6     0   0   1   0   0   0   1   0   2   0\n",
      "7     0   3   1   0   0   0   0   0   0   0\n",
      "8     0   0   0   0   0   0   0   0   1   0\n",
      "9     0   3   1   0   0   0   0   0   1   0\n",
      "10    0   0   0   0   0   0   0   1   0   1\n",
      "11    0   0   0   0   0   0   0   0   0   0\n",
      "12    0   1   0   0   0   0   1   0   0   0\n",
      "13    1   0   0   0   0   0   0   0   0   0\n",
      "14    0   0   1   0   0   0   0   0   0   1\n",
      "15    0   0   0   1   0   2   0   0   1   2\n",
      "16    8   0   4   1   0   0   0   0   0   0\n",
      "17    0   1   0   0   0   1   0   0   0   1\n",
      "18    0   4   0   0   0   0   0   1   0   0\n",
      "19    4   3   3   2   3   1   2   0   0   0\n",
      "20    0   2   0   0   0   0   0   1   0   0\n",
      "21    1   0   1   0   0   2   1   0   0   1\n",
      "22    1   0   0   0   0   0   0   1   0   1\n",
      "23    0   1   0   1   1   0   0   0   0   0\n",
      "24    0   0   0   0   0   0   2   0   1   0\n",
      "25    0   1   0   0   0   0   0   1   0   1\n",
      "26    1   3   1   1   0   1   4   0   0   1\n",
      "27    0   0   0   1   0   0   0   1   0   2\n",
      "28    1   1   1   1   0   3   2   1   0   0\n",
      "29    1   0   0   2   0   0   0   0   1   1\n",
      "..   ..  ..  ..  ..  ..  ..  ..  ..  ..  ..\n",
      "970   0   2   0   0   0   1   2   0   1   1\n",
      "971   1   1   1   0   1   0   0   0   0   0\n",
      "972   0   1   1   0   0   0   2   6   2   2\n",
      "973   3   3   3   0   1   2   0   0   0   0\n",
      "974   0   0   0   0   0   0   0   0   1   0\n",
      "975   0   1   0   2   0   0   0   0   0   0\n",
      "976   0   0   1   0   0   0   0   0   0   0\n",
      "977   0   1   0   0   1   0   1   0   0   0\n",
      "978   1   0   0   1   0   2   1   0   0   0\n",
      "979   0   0   1   0   0   0   0   0   0   0\n",
      "980   0   0   0   3   0   0   1   0   0   0\n",
      "981   0   0   0   1   0   0   0   0   0   0\n",
      "982   0   2   0   0   0   0   0   0   0   0\n",
      "983   0   0   0   0   0   0   1   0   1   0\n",
      "984   0   1   0   1   0   1   0   0   0   0\n",
      "985   0   1   0   0   0   0   0   0   0   0\n",
      "986   0   0   0   0   0   2   0   1   0   0\n",
      "987   0   0   0   0   0   0   0   0   0   0\n",
      "988   0   1   0   0   0   0   0   0   0   0\n",
      "989   0   0   1   0   2   2   0   0   0   0\n",
      "990   1   0   1   0   1   0   0   0   0   0\n",
      "991   0   1   0   0   1   0   2   1   0   0\n",
      "992   0   0   1   0   0   0   0   0   0   0\n",
      "993   0   2   1   0   0   0   0   0   2   0\n",
      "994   0   0   1   0   0   0   0   0   0   0\n",
      "995   2   0   0   0   0   0   0   0   0   2\n",
      "996   0   0   0   0   0   0   0   0   0   0\n",
      "997   5   0   0   0   0   2   0   0   0   0\n",
      "998   0   2   4   1   0   1   5   2   2   2\n",
      "999   0   0   0   0   0   0   0   1   0   0\n",
      "\n",
      "[1000 rows x 10 columns]\n"
     ]
    }
   ],
   "source": [
    "starts_set = [A_starts, B_starts, C_starts]\n",
    "A_recurrence = []\n",
    "B_recurrence = []\n",
    "C_recurrence = []\n",
    "\n",
    "recurrences = [A_recurrence, B_recurrence, C_recurrence]\n",
    "for i in range(3):\n",
    "    for run in range(len(all_data[i])):\n",
    "        run_recurrences = {}\n",
    "        if (run % 100 == 0):\n",
    "            print(\"{0}% complete with board {1}\".format(run/10, i+1))\n",
    "        for start in starts_set[i]:\n",
    "            run_recurrences[start] = (count_use(all_data[i][run], start))\n",
    "        recurrences[i].append(run_recurrences)\n",
    "\n",
    "A_recurrence_df = pandas.DataFrame(A_recurrence)\n",
    "B_recurrence_df = pandas.DataFrame(B_recurrence)\n",
    "C_recurrence_df = pandas.DataFrame(C_recurrence)\n",
    "\n",
    "print(A_recurrence_df)"
   ]
  },
  {
   "cell_type": "markdown",
   "metadata": {},
   "source": [
    "And here it is, the recurrence data.\n",
    "\n",
    "This was an interesting problem, that took me a while to solve for a couple of reasons. I didn't get your email about precisely which data you wanted until the last day I had to work on it, and so I collected my data in a roundabout way: I collected as detailed data as I possibly could, which could then be collapsed and simplified into either of the two forms I emailed you about.\n",
    "\n",
    "So in this step, I create a DataFrame for each setup that corresponds every single snake on it with how many times it triggered in each run. This is plainly far more detailed data than I need to measure loopiness, so I simplify it in the next step, but I was worried about you wanting the other form, so I collected it in this broad form first.\n",
    "\n",
    "Another point to note about this step is that I didn't create a general function that takes in game records and outputs recurrence data. Instead, I simply created code that produced the recurrence data for the boards and data that I already had. This was a conscious choice on my part, as the question did not say I had to create a function, but merely create code that collected the data. So, it was easier to simply produce specific code rather than a general function. However, I would pay for this in time, during problem 6 when I have to get recurrence data for other boards and thus have to basically recreate my code. If I was doing a similar project in the future, I probably would code the data collection as a general function to begin with.\n",
    "\n",
    "Also, the program takes ages to run, and I was worried about not being able to tell if it will ever stop, so I added progress reports."
   ]
  },
  {
   "cell_type": "code",
   "execution_count": 42,
   "metadata": {
    "collapsed": false
   },
   "outputs": [
    {
     "name": "stdout",
     "output_type": "stream",
     "text": [
      "      A   B   C\n",
      "0     1   2   1\n",
      "1     1   6   1\n",
      "2     4   5   2\n",
      "3     1   0   0\n",
      "4    10   5   0\n",
      "5     7   4   3\n",
      "6     4  11   5\n",
      "7     4   4   0\n",
      "8     1   2   3\n",
      "9     5   6   0\n",
      "10    2   9   3\n",
      "11    0   3   2\n",
      "12    2   2   1\n",
      "13    1   5   1\n",
      "14    2   5   7\n",
      "15    6   2   2\n",
      "16   13  16   4\n",
      "17    3   3   8\n",
      "18    5   4   7\n",
      "19   18   8   2\n",
      "20    3   1   3\n",
      "21    6   1   1\n",
      "22    3  12   4\n",
      "23    3   0   3\n",
      "24    3   3   3\n",
      "25    3   2   2\n",
      "26   12   5   8\n",
      "27    4   6   3\n",
      "28   10   3   0\n",
      "29    5   2   3\n",
      "..   ..  ..  ..\n",
      "970   7   5   8\n",
      "971   4   2   1\n",
      "972  14   2   7\n",
      "973  12   5   5\n",
      "974   1   3   0\n",
      "975   3   0   3\n",
      "976   1   0   1\n",
      "977   3   3   1\n",
      "978   5   0   0\n",
      "979   1   2   4\n",
      "980   4   5   0\n",
      "981   1   3   6\n",
      "982   2   0   0\n",
      "983   2   3  13\n",
      "984   3   0   7\n",
      "985   1   2   2\n",
      "986   3   0   1\n",
      "987   0   0   0\n",
      "988   1   2   1\n",
      "989   5   4   3\n",
      "990   3   2   5\n",
      "991   5   4   4\n",
      "992   1   7   1\n",
      "993   5   0   1\n",
      "994   1   1   2\n",
      "995   4   1   3\n",
      "996   0   0   6\n",
      "997   7   4   6\n",
      "998  19   0   5\n",
      "999   1   6   0\n",
      "\n",
      "[1000 rows x 3 columns]\n",
      "                 A            B            C\n",
      "count  1000.000000  1000.000000  1000.000000\n",
      "mean      4.221000     4.439000     2.864000\n",
      "std       3.783976     5.015519     2.536126\n",
      "min       0.000000     0.000000     0.000000\n",
      "25%       1.000000     1.000000     1.000000\n",
      "50%       3.000000     3.000000     2.000000\n",
      "75%       6.000000     6.000000     4.000000\n",
      "max      30.000000    33.000000    18.000000\n"
     ]
    }
   ],
   "source": [
    "#A_recurrence_averages = pandas.Series(sum/len(A_starts) for average in )\n",
    "\n",
    "total_recurrence_df = pandas.DataFrame({'A' : A_recurrence_df.sum(axis=1), 'B' : B_recurrence_df.sum(axis = 1), 'C' : C_recurrence_df.sum(axis = 1)})\n",
    "print(total_recurrence_df)\n",
    "\n",
    "print(total_recurrence_df.describe())\n",
    "\n",
    "#do stats"
   ]
  },
  {
   "cell_type": "markdown",
   "metadata": {},
   "source": [
    "Here I transform my raw recurrence data into the loopiness metric you wanted. The mean of the .describe() method is what is most interesting."
   ]
  },
  {
   "cell_type": "markdown",
   "metadata": {},
   "source": [
    "# 5. Another Measure of Recurrent Behavior"
   ]
  },
  {
   "cell_type": "markdown",
   "metadata": {},
   "source": [
    "### 5.1"
   ]
  },
  {
   "cell_type": "code",
   "execution_count": 10,
   "metadata": {
    "collapsed": false
   },
   "outputs": [
    {
     "name": "stdout",
     "output_type": "stream",
     "text": [
      "1\n",
      "1\n",
      "1\n"
     ]
    }
   ],
   "source": [
    "def detect_2_cycles(setup):\n",
    "    link = []\n",
    "    cycles = 0\n",
    "    for i in range(setup['size']+1):\n",
    "        link.append(i)\n",
    "    link[100] = 101\n",
    "    snakes = setup['snakes']\n",
    "    for snake in snakes:\n",
    "        link[snake[0]] = snake[1]\n",
    "    ladders = setup['ladders']\n",
    "    for ladder in ladders:\n",
    "        link[ladder[0]] = ladder[1]\n",
    "    for ladder in ladders:\n",
    "        step = ladder[1]\n",
    "        while not (link[step] > step):\n",
    "            if link[step] < ladder[0]:\n",
    "                jump_before = False\n",
    "                for second_step in range(link[step], ladder[0]):\n",
    "                    if link[second_step] != second_step:\n",
    "                        jump_before = True\n",
    "                if jump_before == False:\n",
    "                    cycles += 1\n",
    "                    break\n",
    "                else:\n",
    "                    break\n",
    "            else:\n",
    "                step += 1\n",
    "    return cycles\n",
    "        \n",
    "for i in range(3):\n",
    "    print(detect_2_cycles(setups[i]))\n",
    "    \n"
   ]
  },
  {
   "cell_type": "markdown",
   "metadata": {},
   "source": [
    "This is the 2_cycles metric. The function takes in the setup and outputs the number of 2-cycles contained within. 2-cycles are a pair of ladder and snake where the ladder is contained within the snake, but with one special condition: there can be no other snakes or ladders between the exit of the ladder and the entrance of the snake, and the exit of the snake and the entrance of the ladder.\n",
    "\n",
    "My function finds this by first creating a list that contains the destination of all squares (the destination of a blank square is itself). Then, I iterate through the ladders, checking each square after its exit for its type. If it detects a snake before it detects a ladder, it looks through each step after that snakes exit through to the start of the ladder. If there are no snakes or ladders there, then it has found a 2-cycle and it increments my cycle count.\n",
    "\n",
    "Interestingly, each setup only has one 2-cycle."
   ]
  },
  {
   "cell_type": "markdown",
   "metadata": {},
   "source": [
    "# 6. Game Variations"
   ]
  },
  {
   "cell_type": "markdown",
   "metadata": {},
   "source": [
    "# 6.1"
   ]
  },
  {
   "cell_type": "code",
   "execution_count": 7,
   "metadata": {
    "collapsed": false
   },
   "outputs": [
    {
     "data": {
      "text/plain": [
       "[{'URL': 'http://2.bp.blogspot.com/-BAXe2vGFAEo/UxFsY8PwCAI/AAAAAAAAE0c/uHRwHjY8lwk/s1600/Snakes&Ladders-Nationalseriesgames.jpg',\n",
       "  'diesides': 6,\n",
       "  'ladders': [[8, 26],\n",
       "   [21, 82],\n",
       "   [43, 77],\n",
       "   [50, 91],\n",
       "   [54, 93],\n",
       "   [66, 87],\n",
       "   [62, 96],\n",
       "   [60, 100]],\n",
       "  'name': ['Random online example + -5'],\n",
       "  'size': 100,\n",
       "  'snakes': [[73, 1],\n",
       "   [55, 7],\n",
       "   [48, 9],\n",
       "   [59, 17],\n",
       "   [83, 19],\n",
       "   [44, 22],\n",
       "   [95, 24],\n",
       "   [98, 28],\n",
       "   [69, 33],\n",
       "   [64, 36],\n",
       "   [92, 51],\n",
       "   [41, 5]]},\n",
       " {'URL': 'http://2.bp.blogspot.com/-BAXe2vGFAEo/UxFsY8PwCAI/AAAAAAAAE0c/uHRwHjY8lwk/s1600/Snakes&Ladders-Nationalseriesgames.jpg',\n",
       "  'diesides': 6,\n",
       "  'ladders': [[8, 26],\n",
       "   [21, 82],\n",
       "   [43, 77],\n",
       "   [50, 91],\n",
       "   [54, 93],\n",
       "   [66, 87],\n",
       "   [62, 96],\n",
       "   [60, 100]],\n",
       "  'name': ['Random online example + -4'],\n",
       "  'size': 100,\n",
       "  'snakes': [[73, 1],\n",
       "   [55, 7],\n",
       "   [48, 9],\n",
       "   [59, 17],\n",
       "   [83, 19],\n",
       "   [44, 22],\n",
       "   [95, 24],\n",
       "   [98, 28],\n",
       "   [69, 33],\n",
       "   [64, 36],\n",
       "   [92, 51],\n",
       "   [42, 5]]},\n",
       " {'URL': 'http://2.bp.blogspot.com/-BAXe2vGFAEo/UxFsY8PwCAI/AAAAAAAAE0c/uHRwHjY8lwk/s1600/Snakes&Ladders-Nationalseriesgames.jpg',\n",
       "  'diesides': 6,\n",
       "  'ladders': [[8, 26],\n",
       "   [21, 82],\n",
       "   [43, 77],\n",
       "   [50, 91],\n",
       "   [54, 93],\n",
       "   [66, 87],\n",
       "   [62, 96],\n",
       "   [60, 100]],\n",
       "  'name': ['Random online example + -1'],\n",
       "  'size': 100,\n",
       "  'snakes': [[73, 1],\n",
       "   [55, 7],\n",
       "   [48, 9],\n",
       "   [59, 17],\n",
       "   [83, 19],\n",
       "   [44, 22],\n",
       "   [95, 24],\n",
       "   [98, 28],\n",
       "   [69, 33],\n",
       "   [64, 36],\n",
       "   [92, 51],\n",
       "   [45, 5]]},\n",
       " {'URL': 'http://2.bp.blogspot.com/-BAXe2vGFAEo/UxFsY8PwCAI/AAAAAAAAE0c/uHRwHjY8lwk/s1600/Snakes&Ladders-Nationalseriesgames.jpg',\n",
       "  'diesides': 6,\n",
       "  'ladders': [[8, 26],\n",
       "   [21, 82],\n",
       "   [43, 77],\n",
       "   [50, 91],\n",
       "   [54, 93],\n",
       "   [66, 87],\n",
       "   [62, 96],\n",
       "   [60, 100]],\n",
       "  'name': ['Random online example + 0'],\n",
       "  'size': 100,\n",
       "  'snakes': [[73, 1],\n",
       "   [55, 7],\n",
       "   [48, 9],\n",
       "   [59, 17],\n",
       "   [83, 19],\n",
       "   [44, 22],\n",
       "   [95, 24],\n",
       "   [98, 28],\n",
       "   [69, 33],\n",
       "   [64, 36],\n",
       "   [92, 51],\n",
       "   [46, 5]]},\n",
       " {'URL': 'http://2.bp.blogspot.com/-BAXe2vGFAEo/UxFsY8PwCAI/AAAAAAAAE0c/uHRwHjY8lwk/s1600/Snakes&Ladders-Nationalseriesgames.jpg',\n",
       "  'diesides': 6,\n",
       "  'ladders': [[8, 26],\n",
       "   [21, 82],\n",
       "   [43, 77],\n",
       "   [50, 91],\n",
       "   [54, 93],\n",
       "   [66, 87],\n",
       "   [62, 96],\n",
       "   [60, 100]],\n",
       "  'name': ['Random online example + 1'],\n",
       "  'size': 100,\n",
       "  'snakes': [[73, 1],\n",
       "   [55, 7],\n",
       "   [48, 9],\n",
       "   [59, 17],\n",
       "   [83, 19],\n",
       "   [44, 22],\n",
       "   [95, 24],\n",
       "   [98, 28],\n",
       "   [69, 33],\n",
       "   [64, 36],\n",
       "   [92, 51],\n",
       "   [47, 5]]},\n",
       " {'URL': 'http://2.bp.blogspot.com/-BAXe2vGFAEo/UxFsY8PwCAI/AAAAAAAAE0c/uHRwHjY8lwk/s1600/Snakes&Ladders-Nationalseriesgames.jpg',\n",
       "  'diesides': 6,\n",
       "  'ladders': [[8, 26],\n",
       "   [21, 82],\n",
       "   [43, 77],\n",
       "   [50, 91],\n",
       "   [54, 93],\n",
       "   [66, 87],\n",
       "   [62, 96],\n",
       "   [60, 100]],\n",
       "  'name': ['Random online example + 3'],\n",
       "  'size': 100,\n",
       "  'snakes': [[73, 1],\n",
       "   [55, 7],\n",
       "   [48, 9],\n",
       "   [59, 17],\n",
       "   [83, 19],\n",
       "   [44, 22],\n",
       "   [95, 24],\n",
       "   [98, 28],\n",
       "   [69, 33],\n",
       "   [64, 36],\n",
       "   [92, 51],\n",
       "   [49, 5]]}]"
      ]
     },
     "execution_count": 7,
     "metadata": {},
     "output_type": "execute_result"
    }
   ],
   "source": [
    "from pprint import pprint\n",
    "import copy\n",
    "#reusing your setup validation code\n",
    "def validate_setup(d):\n",
    "    \"\"\"\n",
    "    Validate keys and top-level types of values for game setup dictionary, raising a\n",
    "      KeyError or TypeError if invalid, otherwise silent.\n",
    "    Does not distinguish list or tuple types of snakes/ladders pairs.\n",
    "    Does not check other data constraints, such as snakes or ladder pair values being\n",
    "      not equal or clashing with another pair's values.\n",
    "    \"\"\"\n",
    "    keys = sorted(d.keys())\n",
    "    need_keys = sorted(['size', 'snakes', 'ladders', 'diesides', 'name', 'URL'])\n",
    "    if keys != need_keys:\n",
    "        raise KeyError(\"Correct keys not present in setup dictionary\")\n",
    "    if not isinstance(d['size'], int):\n",
    "        raise TypeError(\"'size' must be int\")\n",
    "    if not isinstance(d['diesides'], int):\n",
    "        raise TypeError(\"'diesides' must be int\")\n",
    "    active = [False]*101 # my code! used to make sure there is only one link per tile\n",
    "    for kind in ('snakes', 'ladders'):\n",
    "        if isinstance(d[kind], (list, tuple)):\n",
    "            try:\n",
    "                for i1, i2 in d[kind]:\n",
    "                    if active[i1] or active[i2]: #raises an error when there's more than one link per square\n",
    "                        raise TypeError(\"Maximum of one link per square\")\n",
    "                    active[i1]=True # mine. records that this square has a link\n",
    "                    active[i2]=True # mine. same as above\n",
    "                    # this loop is agnostic about type of sequence\n",
    "                    if not isinstance(i1+i2, int):\n",
    "                        raise TypeError(\"'{}' must be a sequence of pairs of ints\".format(kind))\n",
    "            except ValueError:\n",
    "                # too many or not enough values to unpack from d['snakes']\n",
    "                raise TypeError(\"'{}' must be a sequence of pairs of ints\".format(kind))\n",
    "        else:\n",
    "            raise TypeError(\"'{}' must be a sequence of pairs of ints\".format(kind))\n",
    "    return True\n",
    "\n",
    "# Takes in a board, and returns a dict of setups with one link between 35 and 36 varied from -5 to +5 in start. The key is how they are varied.\n",
    "def vary_game(setup):\n",
    "    chosen_snake = (0,0)\n",
    "    for snake in setup['snakes']:\n",
    "        if snake[0] > 35 and snake[0] < 65:\n",
    "            chosen_snake = snake\n",
    "            break\n",
    "    new_games = []\n",
    "    for adjust in range(-5,5):\n",
    "            new_game = copy.deepcopy(setup)\n",
    "            new_game['snakes'].remove(chosen_snake)\n",
    "            new_game['snakes'].append([chosen_snake[0]+adjust,chosen_snake[1]])\n",
    "            new_game['name'] = [new_game['name'] + ' + {}'.format(adjust)]\n",
    "            try:\n",
    "                validate_setup(new_game)\n",
    "                new_games.append(new_game)\n",
    "            except TypeError:\n",
    "                pass\n",
    "    return new_games\n",
    "\n",
    "vary_game(setups[1])\n",
    "\n"
   ]
  },
  {
   "cell_type": "markdown",
   "metadata": {},
   "source": [
    "Having learned my lesson from earlier regarding specific code vs general functions, I created a general function that outputs a list of boards with one link adjusted from -5 to +5 from an input board.\n",
    "\n",
    "I reused your validate_setup function from the other notebook so that I can easily ignore all the invalid games created by the adjustment."
   ]
  },
  {
   "cell_type": "markdown",
   "metadata": {},
   "source": [
    "### 6.2"
   ]
  },
  {
   "cell_type": "code",
   "execution_count": 8,
   "metadata": {
    "collapsed": false
   },
   "outputs": [],
   "source": [
    "import csv_utils\n",
    "import make_game\n",
    "\n",
    "varied_recurrences = []\n",
    "varied_games = vary_game(setups[1])\n",
    "for i in range(len(varied_games)):\n",
    "    varied_recurrences.append([])\n",
    "\n",
    "new_data = [csv_utils.multi_run(make_game.make_game_from_dict(game), 1000) for game in varied_games]    "
   ]
  },
  {
   "cell_type": "markdown",
   "metadata": {},
   "source": [
    "Here I create the run data for all of my varied games (it turns out there is only six). I split this up with the next part because it takes a while, and I don't want to regenerate new data every time. Note that I do it in a much neater and more pythonic way, using list comprehension to produce a single list that contains all my data through nesting.\n",
    "\n",
    "NOTE: DON'T RUN THIS. It will change my data."
   ]
  },
  {
   "cell_type": "code",
   "execution_count": 145,
   "metadata": {
    "collapsed": false
   },
   "outputs": [
    {
     "name": "stdout",
     "output_type": "stream",
     "text": [
      "0.0% complete with board 1\n",
      "10.0% complete with board 1\n",
      "20.0% complete with board 1\n",
      "30.0% complete with board 1\n",
      "40.0% complete with board 1\n",
      "50.0% complete with board 1\n",
      "60.0% complete with board 1\n",
      "70.0% complete with board 1\n",
      "80.0% complete with board 1\n",
      "90.0% complete with board 1\n",
      "0.0% complete with board 2\n",
      "10.0% complete with board 2\n",
      "20.0% complete with board 2\n",
      "30.0% complete with board 2\n",
      "40.0% complete with board 2\n",
      "50.0% complete with board 2\n",
      "60.0% complete with board 2\n",
      "70.0% complete with board 2\n",
      "80.0% complete with board 2\n",
      "90.0% complete with board 2\n",
      "0.0% complete with board 3\n",
      "10.0% complete with board 3\n",
      "20.0% complete with board 3\n",
      "30.0% complete with board 3\n",
      "40.0% complete with board 3\n",
      "50.0% complete with board 3\n",
      "60.0% complete with board 3\n",
      "70.0% complete with board 3\n",
      "80.0% complete with board 3\n",
      "90.0% complete with board 3\n",
      "0.0% complete with board 4\n",
      "10.0% complete with board 4\n",
      "20.0% complete with board 4\n",
      "30.0% complete with board 4\n",
      "40.0% complete with board 4\n",
      "50.0% complete with board 4\n",
      "60.0% complete with board 4\n",
      "70.0% complete with board 4\n",
      "80.0% complete with board 4\n",
      "90.0% complete with board 4\n",
      "0.0% complete with board 5\n",
      "10.0% complete with board 5\n",
      "20.0% complete with board 5\n",
      "30.0% complete with board 5\n",
      "40.0% complete with board 5\n",
      "50.0% complete with board 5\n",
      "60.0% complete with board 5\n",
      "70.0% complete with board 5\n",
      "80.0% complete with board 5\n",
      "90.0% complete with board 5\n",
      "0.0% complete with board 6\n",
      "10.0% complete with board 6\n",
      "20.0% complete with board 6\n",
      "30.0% complete with board 6\n",
      "40.0% complete with board 6\n",
      "50.0% complete with board 6\n",
      "60.0% complete with board 6\n",
      "70.0% complete with board 6\n",
      "80.0% complete with board 6\n",
      "90.0% complete with board 6\n"
     ]
    }
   ],
   "source": [
    "varied_recurrences = []\n",
    "for board in varied_games:\n",
    "    varied_recurrences.append([])\n",
    "    for run in range(len(new_data[0])):\n",
    "        run_recurrences = {0: 0}\n",
    "        if (run % 100 == 0):\n",
    "            print(\"{0}% complete with board {1}\".format(run/10, varied_games.index(board)+1))\n",
    "        varied_start_set = [snake[0] for snake in board['snakes']]\n",
    "        for start in varied_start_set:\n",
    "            run_recurrences[start] = (count_use(new_data[varied_games.index(board)][run], start))\n",
    "        varied_recurrences[varied_games.index(board)].append(run_recurrences)\n",
    "\n",
    "\n",
    "    "
   ]
  },
  {
   "cell_type": "markdown",
   "metadata": {},
   "source": [
    "This is where I generate the raw recurrence data for each board like I did before. It's still not a general function, but it's closer to one than before. The code is neater and more general. The only hardcoded aspects are the varied_games list, the varied_recurrences list, and the new_data list. In the form I wrote it here, it is fairly simple just to change those three variables to reuse the code."
   ]
  },
  {
   "cell_type": "code",
   "execution_count": 183,
   "metadata": {
    "collapsed": false
   },
   "outputs": [
    {
     "name": "stdout",
     "output_type": "stream",
     "text": [
      "count    1000.000000\n",
      "mean        4.857000\n",
      "std         5.181448\n",
      "min         0.000000\n",
      "25%         1.000000\n",
      "50%         3.000000\n",
      "75%         7.000000\n",
      "max        35.000000\n",
      "Name: -5, dtype: float64\n",
      "\n",
      "count    1000.000000\n",
      "mean        4.712000\n",
      "std         5.360391\n",
      "min         0.000000\n",
      "25%         1.000000\n",
      "50%         3.000000\n",
      "75%         6.000000\n",
      "max        36.000000\n",
      "Name: -4, dtype: float64\n",
      "\n",
      "count    1000.000000\n",
      "mean        4.667000\n",
      "std         5.079164\n",
      "min         0.000000\n",
      "25%         1.000000\n",
      "50%         3.000000\n",
      "75%         7.000000\n",
      "max        32.000000\n",
      "Name: -1, dtype: float64\n",
      "\n",
      "count    1000.00000\n",
      "mean        4.53200\n",
      "std         4.99499\n",
      "min         0.00000\n",
      "25%         1.00000\n",
      "50%         3.00000\n",
      "75%         7.00000\n",
      "max        41.00000\n",
      "Name: 0, dtype: float64\n",
      "\n",
      "count    1000.000000\n",
      "mean        4.245000\n",
      "std         4.524317\n",
      "min         0.000000\n",
      "25%         1.000000\n",
      "50%         3.000000\n",
      "75%         6.000000\n",
      "max        30.000000\n",
      "Name: 1, dtype: float64\n",
      "\n",
      "count    1000.000000\n",
      "mean        3.966000\n",
      "std         4.149465\n",
      "min         0.000000\n",
      "25%         1.000000\n",
      "50%         3.000000\n",
      "75%         6.000000\n",
      "max        28.000000\n",
      "Name: 3, dtype: float64\n",
      "\n"
     ]
    }
   ],
   "source": [
    "recur_data = []        \n",
    "for data in varied_recurrences:\n",
    "    namestring = varied_games[varied_recurrences.index(data)]['name'][0]\n",
    "    namestring = namestring[24:]\n",
    "    df = pandas.DataFrame(data)\n",
    "    df_2 = df.sum(axis = 1)\n",
    "    df_2.name = namestring\n",
    "    recur_data.append(df_2)\n",
    "\n",
    "\n",
    "\n",
    "for df in list(recur_data):\n",
    "    print(df.describe())\n",
    "    print(\"\")"
   ]
  },
  {
   "cell_type": "markdown",
   "metadata": {},
   "source": [
    "Transforming the recurrence data into actual loopiness metrics."
   ]
  },
  {
   "cell_type": "code",
   "execution_count": 19,
   "metadata": {
    "collapsed": false,
    "scrolled": true
   },
   "outputs": [
    {
     "name": "stdout",
     "output_type": "stream",
     "text": [
      "    0\n",
      "-5  2\n",
      "-4  2\n",
      "-1  1\n",
      "0   1\n",
      "1   1\n",
      "3   1\n"
     ]
    }
   ],
   "source": [
    "cycle_data = []\n",
    "for setup in varied_games:\n",
    "    cycle_data.append([setup['name'][0][24:], detect_2_cycles(setup)])\n",
    "\n",
    "cycle_df = pandas.DataFrame([data[1] for data in cycle_data], index = [data[0] for data in cycle_data])\n",
    "print(cycle_df)"
   ]
  }
 ],
 "metadata": {
  "kernelspec": {
   "display_name": "Python 3",
   "language": "python",
   "name": "python3"
  },
  "language_info": {
   "codemirror_mode": {
    "name": "ipython",
    "version": 3
   },
   "file_extension": ".py",
   "mimetype": "text/x-python",
   "name": "python",
   "nbconvert_exporter": "python",
   "pygments_lexer": "ipython3",
   "version": "3.5.1"
  }
 },
 "nbformat": 4,
 "nbformat_minor": 0
}
