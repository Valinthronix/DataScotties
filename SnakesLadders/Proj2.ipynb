{
 "cells": [
  {
   "cell_type": "markdown",
   "metadata": {},
   "source": [
    "# 3. Basic Comparisons of Editions"
   ]
  },
  {
   "cell_type": "code",
   "execution_count": 2,
   "metadata": {
    "collapsed": true
   },
   "outputs": [],
   "source": [
    "import csv_utils\n",
    "import pandas\n",
    "from pprint import pprint\n",
    "%matplotlib inline\n",
    "\n",
    "A_data = csv_utils.load_csv('A_data.csv')\n",
    "B_data = csv_utils.load_csv('B_data.csv')\n",
    "C_data = csv_utils.load_csv('C_data.csv')\n",
    "\n",
    "all_data = [A_data, B_data, C_data]"
   ]
  },
  {
   "cell_type": "markdown",
   "metadata": {},
   "source": [
    "Loading the csv data into individual lists of DataFrames. I create all_data to contain them here because it is handy to iterate through that so I don't have to write the same code three times later."
   ]
  },
  {
   "cell_type": "markdown",
   "metadata": {
    "collapsed": true
   },
   "source": [
    "### Game Length"
   ]
  },
  {
   "cell_type": "code",
   "execution_count": 77,
   "metadata": {
    "collapsed": false
   },
   "outputs": [
    {
     "data": {
      "text/html": [
       "<div>\n",
       "<table border=\"1\" class=\"dataframe\">\n",
       "  <thead>\n",
       "    <tr style=\"text-align: right;\">\n",
       "      <th></th>\n",
       "      <th>A</th>\n",
       "      <th>B</th>\n",
       "      <th>C</th>\n",
       "    </tr>\n",
       "  </thead>\n",
       "  <tbody>\n",
       "    <tr>\n",
       "      <th>count</th>\n",
       "      <td>1000.000000</td>\n",
       "      <td>1000.000000</td>\n",
       "      <td>1000.000000</td>\n",
       "    </tr>\n",
       "    <tr>\n",
       "      <th>mean</th>\n",
       "      <td>38.240000</td>\n",
       "      <td>50.150000</td>\n",
       "      <td>27.859000</td>\n",
       "    </tr>\n",
       "    <tr>\n",
       "      <th>std</th>\n",
       "      <td>24.188623</td>\n",
       "      <td>41.877742</td>\n",
       "      <td>13.251291</td>\n",
       "    </tr>\n",
       "    <tr>\n",
       "      <th>min</th>\n",
       "      <td>7.000000</td>\n",
       "      <td>8.000000</td>\n",
       "      <td>8.000000</td>\n",
       "    </tr>\n",
       "    <tr>\n",
       "      <th>25%</th>\n",
       "      <td>21.000000</td>\n",
       "      <td>21.000000</td>\n",
       "      <td>19.000000</td>\n",
       "    </tr>\n",
       "    <tr>\n",
       "      <th>50%</th>\n",
       "      <td>32.000000</td>\n",
       "      <td>38.000000</td>\n",
       "      <td>25.000000</td>\n",
       "    </tr>\n",
       "    <tr>\n",
       "      <th>75%</th>\n",
       "      <td>49.000000</td>\n",
       "      <td>66.000000</td>\n",
       "      <td>34.000000</td>\n",
       "    </tr>\n",
       "    <tr>\n",
       "      <th>max</th>\n",
       "      <td>222.000000</td>\n",
       "      <td>338.000000</td>\n",
       "      <td>114.000000</td>\n",
       "    </tr>\n",
       "  </tbody>\n",
       "</table>\n",
       "</div>"
      ],
      "text/plain": [
       "                 A            B            C\n",
       "count  1000.000000  1000.000000  1000.000000\n",
       "mean     38.240000    50.150000    27.859000\n",
       "std      24.188623    41.877742    13.251291\n",
       "min       7.000000     8.000000     8.000000\n",
       "25%      21.000000    21.000000    19.000000\n",
       "50%      32.000000    38.000000    25.000000\n",
       "75%      49.000000    66.000000    34.000000\n",
       "max     222.000000   338.000000   114.000000"
      ]
     },
     "execution_count": 77,
     "metadata": {},
     "output_type": "execute_result"
    },
    {
     "data": {
      "image/png": "[encoded data removed]",
      "text/plain": [
       "<matplotlib.figure.Figure at 0x19e24f98>"
      ]
     },
     "metadata": {},
     "output_type": "display_data"
    }
   ],
   "source": [
    "def make_measure(func, data_set):\n",
    "    A_df = pandas.DataFrame({'A' : [func(run) for run in data_set[0]]})\n",
    "    B_df = pandas.DataFrame({'B' : [func(run) for run in data_set[1]]})\n",
    "    C_df = pandas.DataFrame({'C' : [func(run) for run in data_set[2]]})\n",
    "    df = A_df.join(B_df.join(C_df))\n",
    "    return df \n",
    "\n",
    "length_df = make_measure(len, all_data)\n",
    "\n",
    "def get_max(data):\n",
    "    return (max(max(data['A']),max(data['B']),max(data['C'])))\n",
    "\n",
    "def get_min(data):\n",
    "    return (min(min(data['A']),min(data['B']),min(data['C'])))\n",
    "\n",
    "def make_histos(df):\n",
    "    return df.hist(bins=range(get_min(df), get_max(df)+1), layout=(3,1), figsize=(15,9), edgecolor='none')\n",
    "\n",
    "length_histo = make_histos(length_df)\n",
    "length_df.describe()"
   ]
  },
  {
   "cell_type": "markdown",
   "metadata": {},
   "source": [
    "Here we can clearly see a striking difference between my custom board and the others. The Milton-Bradley has an average game length of roughly 38 moves, and the online copy has an average game length of 50 moves, while mine only lasts 28 moves on average. Moreover, both of the premade games have a long tail, leading to a higher standard deviation, with both of them having a SD of over 50% of the mean. In contrast, my custom game with spread out, shorter snakes and ladders lead to a more consistent gamelength, with a standard deviation of only 13 and a much shorter tail."
   ]
  },
  {
   "cell_type": "markdown",
   "metadata": {},
   "source": [
    "### Spaces jumped"
   ]
  },
  {
   "cell_type": "markdown",
   "metadata": {},
   "source": [
    "This measure refers to how many spaces were moved through usage of a snake or ladder. A setup with longer or more links will have a higher average spaces jumped. In games with higher spaces jumped, the links will have had a stronger influence over the game."
   ]
  },
  {
   "cell_type": "code",
   "execution_count": 6,
   "metadata": {
    "collapsed": false
   },
   "outputs": [
    {
     "data": {
      "text/html": [
       "<div>\n",
       "<table border=\"1\" class=\"dataframe\">\n",
       "  <thead>\n",
       "    <tr style=\"text-align: right;\">\n",
       "      <th></th>\n",
       "      <th>A</th>\n",
       "      <th>B</th>\n",
       "      <th>C</th>\n",
       "    </tr>\n",
       "  </thead>\n",
       "  <tbody>\n",
       "    <tr>\n",
       "      <th>count</th>\n",
       "      <td>1000.00000</td>\n",
       "      <td>1000.000000</td>\n",
       "      <td>1000.000000</td>\n",
       "    </tr>\n",
       "    <tr>\n",
       "      <th>mean</th>\n",
       "      <td>191.97600</td>\n",
       "      <td>318.546000</td>\n",
       "      <td>91.276000</td>\n",
       "    </tr>\n",
       "    <tr>\n",
       "      <th>std</th>\n",
       "      <td>155.10529</td>\n",
       "      <td>304.538733</td>\n",
       "      <td>64.939179</td>\n",
       "    </tr>\n",
       "    <tr>\n",
       "      <th>min</th>\n",
       "      <td>0.00000</td>\n",
       "      <td>0.000000</td>\n",
       "      <td>0.000000</td>\n",
       "    </tr>\n",
       "    <tr>\n",
       "      <th>25%</th>\n",
       "      <td>77.00000</td>\n",
       "      <td>105.000000</td>\n",
       "      <td>48.000000</td>\n",
       "    </tr>\n",
       "    <tr>\n",
       "      <th>50%</th>\n",
       "      <td>148.00000</td>\n",
       "      <td>229.500000</td>\n",
       "      <td>71.000000</td>\n",
       "    </tr>\n",
       "    <tr>\n",
       "      <th>75%</th>\n",
       "      <td>258.25000</td>\n",
       "      <td>433.000000</td>\n",
       "      <td>120.000000</td>\n",
       "    </tr>\n",
       "    <tr>\n",
       "      <th>max</th>\n",
       "      <td>1172.00000</td>\n",
       "      <td>2170.000000</td>\n",
       "      <td>496.000000</td>\n",
       "    </tr>\n",
       "  </tbody>\n",
       "</table>\n",
       "</div>"
      ],
      "text/plain": [
       "                A            B            C\n",
       "count  1000.00000  1000.000000  1000.000000\n",
       "mean    191.97600   318.546000    91.276000\n",
       "std     155.10529   304.538733    64.939179\n",
       "min       0.00000     0.000000     0.000000\n",
       "25%      77.00000   105.000000    48.000000\n",
       "50%     148.00000   229.500000    71.000000\n",
       "75%     258.25000   433.000000   120.000000\n",
       "max    1172.00000  2170.000000   496.000000"
      ]
     },
     "execution_count": 6,
     "metadata": {},
     "output_type": "execute_result"
    },
    {
     "data": {
      "image/png": "[encoded data removed]",
      "text/plain": [
       "<matplotlib.figure.Figure at 0xaec9d68>"
      ]
     },
     "metadata": {},
     "output_type": "display_data"
    }
   ],
   "source": [
    "def count_skip(run):\n",
    "    skip = 0\n",
    "    for i in range(len(run)):\n",
    "        if run['kind'][i] != 'B':\n",
    "            skip = skip + abs(run['end'][i]-run['start'][i]-run['die'][i])\n",
    "    return skip\n",
    "\n",
    "skip_df = make_measure(count_skip, all_data)\n",
    "\n",
    "skip_histos = make_histos(skip_df)\n",
    "skip_df.describe()"
   ]
  },
  {
   "cell_type": "markdown",
   "metadata": {},
   "source": [
    "Spaces jumped is ultimately a measure of the level of influence of snakes and ladders on the game. The online copy is the most extreme board here too, with its many and long snakes having a strong effect on the game, producing a mean of 318. However, it has a very high standard deviation (304), and indeed, the histogram illustrates how inconsistent this is with the nearly flat downward slope of frequency of skip amounts. This indicates that the length of the links may be having a stronger impact than the number of them, as a large number of short links would result in a lower standard deviation and a fairly short tail. This is exemplified by my custom board, which has just as many links as the online copy, but they tend to be much shorter. As you can see, it has a much shorter tail, peaking early and then decreasing quickly."
   ]
  },
  {
   "cell_type": "markdown",
   "metadata": {},
   "source": [
    "### Diversity"
   ]
  },
  {
   "cell_type": "markdown",
   "metadata": {},
   "source": [
    "Diversity is the measure of how many different squares were landed on in a given game. A 100 diversity game run would include the player landing on every space at least once."
   ]
  },
  {
   "cell_type": "code",
   "execution_count": 80,
   "metadata": {
    "collapsed": false
   },
   "outputs": [
    {
     "name": "stdout",
     "output_type": "stream",
     "text": [
      "[[<matplotlib.axes._subplots.AxesSubplot object at 0x0000000014D29BA8>]\n",
      " [<matplotlib.axes._subplots.AxesSubplot object at 0x000000001248BE48>]\n",
      " [<matplotlib.axes._subplots.AxesSubplot object at 0x0000000012355CF8>]]\n"
     ]
    },
    {
     "data": {
      "text/html": [
       "<div>\n",
       "<table border=\"1\" class=\"dataframe\">\n",
       "  <thead>\n",
       "    <tr style=\"text-align: right;\">\n",
       "      <th></th>\n",
       "      <th>A</th>\n",
       "      <th>B</th>\n",
       "      <th>C</th>\n",
       "    </tr>\n",
       "  </thead>\n",
       "  <tbody>\n",
       "    <tr>\n",
       "      <th>count</th>\n",
       "      <td>1000.000000</td>\n",
       "      <td>1000.000000</td>\n",
       "      <td>1000.000000</td>\n",
       "    </tr>\n",
       "    <tr>\n",
       "      <th>mean</th>\n",
       "      <td>34.636000</td>\n",
       "      <td>36.186000</td>\n",
       "      <td>29.089000</td>\n",
       "    </tr>\n",
       "    <tr>\n",
       "      <th>std</th>\n",
       "      <td>14.196868</td>\n",
       "      <td>16.130269</td>\n",
       "      <td>10.109762</td>\n",
       "    </tr>\n",
       "    <tr>\n",
       "      <th>min</th>\n",
       "      <td>9.000000</td>\n",
       "      <td>9.000000</td>\n",
       "      <td>11.000000</td>\n",
       "    </tr>\n",
       "    <tr>\n",
       "      <th>25%</th>\n",
       "      <td>23.000000</td>\n",
       "      <td>23.000000</td>\n",
       "      <td>22.000000</td>\n",
       "    </tr>\n",
       "    <tr>\n",
       "      <th>50%</th>\n",
       "      <td>33.000000</td>\n",
       "      <td>35.000000</td>\n",
       "      <td>28.000000</td>\n",
       "    </tr>\n",
       "    <tr>\n",
       "      <th>75%</th>\n",
       "      <td>45.000000</td>\n",
       "      <td>48.000000</td>\n",
       "      <td>35.000000</td>\n",
       "    </tr>\n",
       "    <tr>\n",
       "      <th>max</th>\n",
       "      <td>81.000000</td>\n",
       "      <td>84.000000</td>\n",
       "      <td>78.000000</td>\n",
       "    </tr>\n",
       "  </tbody>\n",
       "</table>\n",
       "</div>"
      ],
      "text/plain": [
       "                 A            B            C\n",
       "count  1000.000000  1000.000000  1000.000000\n",
       "mean     34.636000    36.186000    29.089000\n",
       "std      14.196868    16.130269    10.109762\n",
       "min       9.000000     9.000000    11.000000\n",
       "25%      23.000000    23.000000    22.000000\n",
       "50%      33.000000    35.000000    28.000000\n",
       "75%      45.000000    48.000000    35.000000\n",
       "max      81.000000    84.000000    78.000000"
      ]
     },
     "execution_count": 80,
     "metadata": {},
     "output_type": "execute_result"
    },
    {
     "data": {
      "image/png": "[encoded data removed]",
      "text/plain": [
       "<matplotlib.figure.Figure at 0x14cf7a58>"
      ]
     },
     "metadata": {},
     "output_type": "display_data"
    }
   ],
   "source": [
    "def count_diversity(run):\n",
    "    traveled = [0] * 101\n",
    "    for i in range(len(run)):\n",
    "        traveled[run['end'][i]] = 1\n",
    "        if (run['start'][i]+run['die'][i] <= 100):\n",
    "            traveled[run['start'][i]+run['die'][i]] = 1\n",
    "    return sum(traveled)\n",
    "\n",
    "diversity_df = make_measure(count_diversity, all_data)\n",
    "diversity_histo = make_histos(diversity_df)\n",
    "print(diversity_histo)\n",
    "diversity_df.describe()"
   ]
  },
  {
   "cell_type": "markdown",
   "metadata": {},
   "source": [
    "Both boards A and B had a wider and greater spread of diversities due to their level of snakes, which encourage diversity by allowing the player to travel to squares they had already passed. Ladders do the opposite, so it makes sense that board C has a shorter tail and a lower mean."
   ]
  },
  {
   "cell_type": "markdown",
   "metadata": {},
   "source": [
    "# 4. Define \"Loopiness\" of a Game"
   ]
  },
  {
   "cell_type": "markdown",
   "metadata": {},
   "source": [
    "### 4.1"
   ]
  },
  {
   "cell_type": "code",
   "execution_count": 26,
   "metadata": {
    "collapsed": true
   },
   "outputs": [],
   "source": [
    "import json\n",
    "# Counts the number of times a specific snake/ladder was used in ONE game\n",
    "def count_use(df, start):\n",
    "    count = 0\n",
    "    for i in range(len(df)):\n",
    "        if (int(df['start'][i]) + int(df['die'][i])) == start:\n",
    "            count += 1\n",
    "    return count\n",
    "\n",
    "setups = json.load(open('setups.json', 'r'))\n",
    "A_starts = [snake[0] for snake in setups[0]['snakes']]\n",
    "B_starts = [snake[0] for snake in setups[1]['snakes']]\n",
    "C_starts = [snake[0] for snake in setups[2]['snakes']]\n"
   ]
  },
  {
   "cell_type": "markdown",
   "metadata": {},
   "source": [
    "Here's my count_use function, which takes in a DataFrame that represents a run of the game and a start of a link (that I assume is a snake, but it doesn't actually matter to the function. It really just counts the number of times you land on a square) and outputs how many times that start was landed on.\n",
    "\n",
    "After that, I create three lists just containing the starts of the snakes of each setup. This is easier to iterate through than the snakes themself. I reference my earlier created setups.json file to do this. The next step takes a bit of explanation, so I would recommend reading the markdown below it first."
   ]
  },
  {
   "cell_type": "markdown",
   "metadata": {},
   "source": [
    "### 4.2"
   ]
  },
  {
   "cell_type": "code",
   "execution_count": 27,
   "metadata": {
    "collapsed": false
   },
   "outputs": [
    {
     "name": "stdout",
     "output_type": "stream",
     "text": [
      "0.0% complete with board 1\n",
      "10.0% complete with board 1\n",
      "20.0% complete with board 1\n",
      "30.0% complete with board 1\n",
      "40.0% complete with board 1\n",
      "50.0% complete with board 1\n",
      "60.0% complete with board 1\n",
      "70.0% complete with board 1\n",
      "80.0% complete with board 1\n",
      "90.0% complete with board 1\n",
      "0.0% complete with board 2\n",
      "10.0% complete with board 2\n",
      "20.0% complete with board 2\n",
      "30.0% complete with board 2\n",
      "40.0% complete with board 2\n",
      "50.0% complete with board 2\n",
      "60.0% complete with board 2\n",
      "70.0% complete with board 2\n",
      "80.0% complete with board 2\n",
      "90.0% complete with board 2\n",
      "0.0% complete with board 3\n",
      "10.0% complete with board 3\n",
      "20.0% complete with board 3\n",
      "30.0% complete with board 3\n",
      "40.0% complete with board 3\n",
      "50.0% complete with board 3\n",
      "60.0% complete with board 3\n",
      "70.0% complete with board 3\n",
      "80.0% complete with board 3\n",
      "90.0% complete with board 3\n",
      "     16  47  49  56  62  64  87  93  95  98\n",
      "0     0   0   0   0   0   1   0   0   0   0\n",
      "1     0   0   0   0   0   1   0   0   0   0\n",
      "2     1   0   2   0   0   0   0   0   0   1\n",
      "3     0   0   0   1   0   0   0   0   0   0\n",
      "4     2   2   2   1   1   0   1   0   1   0\n",
      "5     0   3   0   0   0   0   1   3   0   0\n",
      "6     0   0   1   0   0   0   1   0   2   0\n",
      "7     0   3   1   0   0   0   0   0   0   0\n",
      "8     0   0   0   0   0   0   0   0   1   0\n",
      "9     0   3   1   0   0   0   0   0   1   0\n",
      "10    0   0   0   0   0   0   0   1   0   1\n",
      "11    0   0   0   0   0   0   0   0   0   0\n",
      "12    0   1   0   0   0   0   1   0   0   0\n",
      "13    1   0   0   0   0   0   0   0   0   0\n",
      "14    0   0   1   0   0   0   0   0   0   1\n",
      "15    0   0   0   1   0   2   0   0   1   2\n",
      "16    8   0   4   1   0   0   0   0   0   0\n",
      "17    0   1   0   0   0   1   0   0   0   1\n",
      "18    0   4   0   0   0   0   0   1   0   0\n",
      "19    4   3   3   2   3   1   2   0   0   0\n",
      "20    0   2   0   0   0   0   0   1   0   0\n",
      "21    1   0   1   0   0   2   1   0   0   1\n",
      "22    1   0   0   0   0   0   0   1   0   1\n",
      "23    0   1   0   1   1   0   0   0   0   0\n",
      "24    0   0   0   0   0   0   2   0   1   0\n",
      "25    0   1   0   0   0   0   0   1   0   1\n",
      "26    1   3   1   1   0   1   4   0   0   1\n",
      "27    0   0   0   1   0   0   0   1   0   2\n",
      "28    1   1   1   1   0   3   2   1   0   0\n",
      "29    1   0   0   2   0   0   0   0   1   1\n",
      "..   ..  ..  ..  ..  ..  ..  ..  ..  ..  ..\n",
      "970   0   2   0   0   0   1   2   0   1   1\n",
      "971   1   1   1   0   1   0   0   0   0   0\n",
      "972   0   1   1   0   0   0   2   6   2   2\n",
      "973   3   3   3   0   1   2   0   0   0   0\n",
      "974   0   0   0   0   0   0   0   0   1   0\n",
      "975   0   1   0   2   0   0   0   0   0   0\n",
      "976   0   0   1   0   0   0   0   0   0   0\n",
      "977   0   1   0   0   1   0   1   0   0   0\n",
      "978   1   0   0   1   0   2   1   0   0   0\n",
      "979   0   0   1   0   0   0   0   0   0   0\n",
      "980   0   0   0   3   0   0   1   0   0   0\n",
      "981   0   0   0   1   0   0   0   0   0   0\n",
      "982   0   2   0   0   0   0   0   0   0   0\n",
      "983   0   0   0   0   0   0   1   0   1   0\n",
      "984   0   1   0   1   0   1   0   0   0   0\n",
      "985   0   1   0   0   0   0   0   0   0   0\n",
      "986   0   0   0   0   0   2   0   1   0   0\n",
      "987   0   0   0   0   0   0   0   0   0   0\n",
      "988   0   1   0   0   0   0   0   0   0   0\n",
      "989   0   0   1   0   2   2   0   0   0   0\n",
      "990   1   0   1   0   1   0   0   0   0   0\n",
      "991   0   1   0   0   1   0   2   1   0   0\n",
      "992   0   0   1   0   0   0   0   0   0   0\n",
      "993   0   2   1   0   0   0   0   0   2   0\n",
      "994   0   0   1   0   0   0   0   0   0   0\n",
      "995   2   0   0   0   0   0   0   0   0   2\n",
      "996   0   0   0   0   0   0   0   0   0   0\n",
      "997   5   0   0   0   0   2   0   0   0   0\n",
      "998   0   2   4   1   0   1   5   2   2   2\n",
      "999   0   0   0   0   0   0   0   1   0   0\n",
      "\n",
      "[1000 rows x 10 columns]\n"
     ]
    }
   ],
   "source": [
    "starts_set = [A_starts, B_starts, C_starts]\n",
    "A_recurrence = []\n",
    "B_recurrence = []\n",
    "C_recurrence = []\n",
    "\n",
    "recurrences = [A_recurrence, B_recurrence, C_recurrence]\n",
    "for i in range(3):\n",
    "    for run in range(len(all_data[i])):\n",
    "        run_recurrences = {}\n",
    "        if (run % 100 == 0):\n",
    "            print(\"{0}% complete with board {1}\".format(run/10, i+1))\n",
    "        for start in starts_set[i]:\n",
    "            run_recurrences[start] = (count_use(all_data[i][run], start))\n",
    "        recurrences[i].append(run_recurrences)\n",
    "\n",
    "A_recurrence_df = pandas.DataFrame(A_recurrence)\n",
    "B_recurrence_df = pandas.DataFrame(B_recurrence)\n",
    "C_recurrence_df = pandas.DataFrame(C_recurrence)\n",
    "\n",
    "print(A_recurrence_df)"
   ]
  },
  {
   "cell_type": "markdown",
   "metadata": {},
   "source": [
    "And here it is, the recurrence data.\n",
    "\n",
    "This was an interesting problem, that took me a while to solve for a couple of reasons. I didn't get your email about precisely which data you wanted until the last day I had to work on it, and so I collected my data in a roundabout way: I collected as detailed data as I possibly could, which could then be collapsed and simplified into either of the two forms I emailed you about.\n",
    "\n",
    "So in this step, I create a DataFrame for each setup that corresponds every single snake on it with how many times it triggered in each run. This is plainly far more detailed data than I need to measure loopiness, so I simplify it in the next step, but I was worried about you wanting the other form, so I collected it in this broad form first.\n",
    "\n",
    "Another point to note about this step is that I didn't create a general function that takes in game records and outputs recurrence data. Instead, I simply created code that produced the recurrence data for the boards and data that I already had. This was a conscious choice on my part, as the question did not say I had to create a function, but merely create code that collected the data. So, it was easier to simply produce specific code rather than a general function. However, I would pay for this in time, during problem 6 when I have to get recurrence data for other boards and thus have to basically recreate my code. If I was doing a similar project in the future, I probably would code the data collection as a general function to begin with.\n",
    "\n",
    "Also, the program takes ages to run, and I was worried about not being able to tell if it will ever stop, so I added progress reports."
   ]
  },
  {
   "cell_type": "code",
   "execution_count": 28,
   "metadata": {
    "collapsed": false
   },
   "outputs": [
    {
     "name": "stdout",
     "output_type": "stream",
     "text": [
      "      A   B   C\n",
      "0     1   2   1\n",
      "1     1   6   1\n",
      "2     4   5   2\n",
      "3     1   0   0\n",
      "4    10   5   0\n",
      "5     7   4   3\n",
      "6     4  11   5\n",
      "7     4   4   0\n",
      "8     1   2   3\n",
      "9     5   6   0\n",
      "10    2   9   3\n",
      "11    0   3   2\n",
      "12    2   2   1\n",
      "13    1   5   1\n",
      "14    2   5   7\n",
      "15    6   2   2\n",
      "16   13  16   4\n",
      "17    3   3   8\n",
      "18    5   4   7\n",
      "19   18   8   2\n",
      "20    3   1   3\n",
      "21    6   1   1\n",
      "22    3  12   4\n",
      "23    3   0   3\n",
      "24    3   3   3\n",
      "25    3   2   2\n",
      "26   12   5   8\n",
      "27    4   6   3\n",
      "28   10   3   0\n",
      "29    5   2   3\n",
      "..   ..  ..  ..\n",
      "970   7   5   8\n",
      "971   4   2   1\n",
      "972  14   2   7\n",
      "973  12   5   5\n",
      "974   1   3   0\n",
      "975   3   0   3\n",
      "976   1   0   1\n",
      "977   3   3   1\n",
      "978   5   0   0\n",
      "979   1   2   4\n",
      "980   4   5   0\n",
      "981   1   3   6\n",
      "982   2   0   0\n",
      "983   2   3  13\n",
      "984   3   0   7\n",
      "985   1   2   2\n",
      "986   3   0   1\n",
      "987   0   0   0\n",
      "988   1   2   1\n",
      "989   5   4   3\n",
      "990   3   2   5\n",
      "991   5   4   4\n",
      "992   1   7   1\n",
      "993   5   0   1\n",
      "994   1   1   2\n",
      "995   4   1   3\n",
      "996   0   0   6\n",
      "997   7   4   6\n",
      "998  19   0   5\n",
      "999   1   6   0\n",
      "\n",
      "[1000 rows x 3 columns]\n"
     ]
    }
   ],
   "source": [
    "#A_recurrence_averages = pandas.Series(sum/len(A_starts) for average in )\n",
    "\n",
    "total_recurrence_df = pandas.DataFrame({'A' : A_recurrence_df.sum(axis=1), 'B' : B_recurrence_df.sum(axis = 1), 'C' : C_recurrence_df.sum(axis = 1)})\n",
    "print(total_recurrence_df)\n",
    "\n"
   ]
  },
  {
   "cell_type": "markdown",
   "metadata": {},
   "source": [
    "Here I transform my raw recurrence data into the loopiness metric you wanted."
   ]
  },
  {
   "cell_type": "code",
   "execution_count": 29,
   "metadata": {
    "collapsed": false
   },
   "outputs": [
    {
     "name": "stdout",
     "output_type": "stream",
     "text": [
      "                 A            B            C\n",
      "count  1000.000000  1000.000000  1000.000000\n",
      "mean      4.221000     4.439000     2.864000\n",
      "std       3.783976     5.015519     2.536126\n",
      "min       0.000000     0.000000     0.000000\n",
      "25%       1.000000     1.000000     1.000000\n",
      "50%       3.000000     3.000000     2.000000\n",
      "75%       6.000000     6.000000     4.000000\n",
      "max      30.000000    33.000000    18.000000\n"
     ]
    }
   ],
   "source": [
    "print(total_recurrence_df.describe())"
   ]
  },
  {
   "cell_type": "markdown",
   "metadata": {},
   "source": [
    "Setup A and setup B have very similar average recurrences, 4.2 and 4.4 respectively. They both have more snakes than ladders and have fairly large snakes, so it makes sense that they have similar loopiness. However, even though it has just as many snakes my custom board, C, has a much lower loopiness of 2.86. This is most likely due to the higher number of ladders (10, the same as the amount of snakes) and the fact that the snakes that exist are shorter, and thus less likely to extend the game."
   ]
  },
  {
   "cell_type": "markdown",
   "metadata": {},
   "source": [
    "# 5. Another Measure of Recurrent Behavior"
   ]
  },
  {
   "cell_type": "markdown",
   "metadata": {},
   "source": [
    "### 5.1"
   ]
  },
  {
   "cell_type": "code",
   "execution_count": 48,
   "metadata": {
    "collapsed": false
   },
   "outputs": [
    {
     "name": "stdout",
     "output_type": "stream",
     "text": [
      "A 1\n",
      "B 1\n",
      "C 1\n"
     ]
    }
   ],
   "source": [
    "def detect_2_cycles(setup):\n",
    "    link = []\n",
    "    cycles = 0\n",
    "    for i in range(setup['size']+1):\n",
    "        link.append(i)\n",
    "    link[100] = 101\n",
    "    snakes = setup['snakes']\n",
    "    for snake in snakes:\n",
    "        link[snake[0]] = snake[1]\n",
    "    ladders = setup['ladders']\n",
    "    for ladder in ladders:\n",
    "        link[ladder[0]] = ladder[1]\n",
    "    for ladder in ladders:\n",
    "        step = ladder[1]\n",
    "        while not (link[step] > step):\n",
    "            if link[step] < ladder[0]:\n",
    "                jump_before = False\n",
    "                for second_step in range(link[step], ladder[0]):\n",
    "                    if link[second_step] != second_step:\n",
    "                        jump_before = True\n",
    "                if jump_before == False:\n",
    "                    cycles += 1\n",
    "                    break\n",
    "                else:\n",
    "                    break\n",
    "            else:\n",
    "                step += 1\n",
    "    return cycles\n",
    "        \n",
    "for i in ['A', 'B', 'C']:\n",
    "    print(i, detect_2_cycles(setups[['A', 'B', 'C'].index(i)]))\n",
    "    \n"
   ]
  },
  {
   "cell_type": "markdown",
   "metadata": {},
   "source": [
    "This is the 2_cycles metric. The function takes in the setup and outputs the number of 2-cycles contained within. 2-cycles are a pair of ladder and snake where the ladder is contained within the snake, but with one special condition: there can be no other snakes or ladders between the exit of the ladder and the entrance of the snake, and the exit of the snake and the entrance of the ladder.\n",
    "\n",
    "My function finds this by first creating a list that contains the destination of all squares (the destination of a blank square is itself). Then, I iterate through the ladders, checking each square after its exit for its type. If it detects a snake before it detects a ladder, it looks through each step after that snakes exit through to the start of the ladder. If there are no snakes or ladders there, then it has found a 2-cycle and it increments my cycle count.\n",
    "\n",
    "Interestingly, each setup only has one 2-cycle. With the Milton Bradley (A) and online (B) board, this is probably for playability reasons. Doing the same path multiple times would just get boring. For my custom board (C), this is a consequence of the fact that the link lengths are shorter, in general, and there is a ladder and a snake on every row (of the imaginary 10x10 board), so the links are spread out and it is difficult to find a snake that encloses a ladder without another between them."
   ]
  },
  {
   "cell_type": "markdown",
   "metadata": {},
   "source": [
    "# 6. Game Variations"
   ]
  },
  {
   "cell_type": "markdown",
   "metadata": {},
   "source": [
    "# 6.1"
   ]
  },
  {
   "cell_type": "code",
   "execution_count": 56,
   "metadata": {
    "collapsed": false
   },
   "outputs": [
    {
     "data": {
      "text/plain": [
       "[{'URL': 'http://2.bp.blogspot.com/-BAXe2vGFAEo/UxFsY8PwCAI/AAAAAAAAE0c/uHRwHjY8lwk/s1600/Snakes&Ladders-Nationalseriesgames.jpg',\n",
       "  'diesides': 6,\n",
       "  'ladders': [[8, 26],\n",
       "   [21, 82],\n",
       "   [43, 77],\n",
       "   [50, 91],\n",
       "   [54, 93],\n",
       "   [66, 87],\n",
       "   [62, 96],\n",
       "   [60, 100]],\n",
       "  'name': ['Random online example + -5'],\n",
       "  'size': 100,\n",
       "  'snakes': [[73, 1],\n",
       "   [55, 7],\n",
       "   [48, 9],\n",
       "   [59, 17],\n",
       "   [83, 19],\n",
       "   [44, 22],\n",
       "   [95, 24],\n",
       "   [98, 28],\n",
       "   [69, 33],\n",
       "   [64, 36],\n",
       "   [92, 51],\n",
       "   [41, 5]]},\n",
       " {'URL': 'http://2.bp.blogspot.com/-BAXe2vGFAEo/UxFsY8PwCAI/AAAAAAAAE0c/uHRwHjY8lwk/s1600/Snakes&Ladders-Nationalseriesgames.jpg',\n",
       "  'diesides': 6,\n",
       "  'ladders': [[8, 26],\n",
       "   [21, 82],\n",
       "   [43, 77],\n",
       "   [50, 91],\n",
       "   [54, 93],\n",
       "   [66, 87],\n",
       "   [62, 96],\n",
       "   [60, 100]],\n",
       "  'name': ['Random online example + -4'],\n",
       "  'size': 100,\n",
       "  'snakes': [[73, 1],\n",
       "   [55, 7],\n",
       "   [48, 9],\n",
       "   [59, 17],\n",
       "   [83, 19],\n",
       "   [44, 22],\n",
       "   [95, 24],\n",
       "   [98, 28],\n",
       "   [69, 33],\n",
       "   [64, 36],\n",
       "   [92, 51],\n",
       "   [42, 5]]},\n",
       " {'URL': 'http://2.bp.blogspot.com/-BAXe2vGFAEo/UxFsY8PwCAI/AAAAAAAAE0c/uHRwHjY8lwk/s1600/Snakes&Ladders-Nationalseriesgames.jpg',\n",
       "  'diesides': 6,\n",
       "  'ladders': [[8, 26],\n",
       "   [21, 82],\n",
       "   [43, 77],\n",
       "   [50, 91],\n",
       "   [54, 93],\n",
       "   [66, 87],\n",
       "   [62, 96],\n",
       "   [60, 100]],\n",
       "  'name': ['Random online example + -1'],\n",
       "  'size': 100,\n",
       "  'snakes': [[73, 1],\n",
       "   [55, 7],\n",
       "   [48, 9],\n",
       "   [59, 17],\n",
       "   [83, 19],\n",
       "   [44, 22],\n",
       "   [95, 24],\n",
       "   [98, 28],\n",
       "   [69, 33],\n",
       "   [64, 36],\n",
       "   [92, 51],\n",
       "   [45, 5]]},\n",
       " {'URL': 'http://2.bp.blogspot.com/-BAXe2vGFAEo/UxFsY8PwCAI/AAAAAAAAE0c/uHRwHjY8lwk/s1600/Snakes&Ladders-Nationalseriesgames.jpg',\n",
       "  'diesides': 6,\n",
       "  'ladders': [[8, 26],\n",
       "   [21, 82],\n",
       "   [43, 77],\n",
       "   [50, 91],\n",
       "   [54, 93],\n",
       "   [66, 87],\n",
       "   [62, 96],\n",
       "   [60, 100]],\n",
       "  'name': ['Random online example + 0'],\n",
       "  'size': 100,\n",
       "  'snakes': [[73, 1],\n",
       "   [55, 7],\n",
       "   [48, 9],\n",
       "   [59, 17],\n",
       "   [83, 19],\n",
       "   [44, 22],\n",
       "   [95, 24],\n",
       "   [98, 28],\n",
       "   [69, 33],\n",
       "   [64, 36],\n",
       "   [92, 51],\n",
       "   [46, 5]]},\n",
       " {'URL': 'http://2.bp.blogspot.com/-BAXe2vGFAEo/UxFsY8PwCAI/AAAAAAAAE0c/uHRwHjY8lwk/s1600/Snakes&Ladders-Nationalseriesgames.jpg',\n",
       "  'diesides': 6,\n",
       "  'ladders': [[8, 26],\n",
       "   [21, 82],\n",
       "   [43, 77],\n",
       "   [50, 91],\n",
       "   [54, 93],\n",
       "   [66, 87],\n",
       "   [62, 96],\n",
       "   [60, 100]],\n",
       "  'name': ['Random online example + 1'],\n",
       "  'size': 100,\n",
       "  'snakes': [[73, 1],\n",
       "   [55, 7],\n",
       "   [48, 9],\n",
       "   [59, 17],\n",
       "   [83, 19],\n",
       "   [44, 22],\n",
       "   [95, 24],\n",
       "   [98, 28],\n",
       "   [69, 33],\n",
       "   [64, 36],\n",
       "   [92, 51],\n",
       "   [47, 5]]},\n",
       " {'URL': 'http://2.bp.blogspot.com/-BAXe2vGFAEo/UxFsY8PwCAI/AAAAAAAAE0c/uHRwHjY8lwk/s1600/Snakes&Ladders-Nationalseriesgames.jpg',\n",
       "  'diesides': 6,\n",
       "  'ladders': [[8, 26],\n",
       "   [21, 82],\n",
       "   [43, 77],\n",
       "   [50, 91],\n",
       "   [54, 93],\n",
       "   [66, 87],\n",
       "   [62, 96],\n",
       "   [60, 100]],\n",
       "  'name': ['Random online example + 3'],\n",
       "  'size': 100,\n",
       "  'snakes': [[73, 1],\n",
       "   [55, 7],\n",
       "   [48, 9],\n",
       "   [59, 17],\n",
       "   [83, 19],\n",
       "   [44, 22],\n",
       "   [95, 24],\n",
       "   [98, 28],\n",
       "   [69, 33],\n",
       "   [64, 36],\n",
       "   [92, 51],\n",
       "   [49, 5]]}]"
      ]
     },
     "execution_count": 56,
     "metadata": {},
     "output_type": "execute_result"
    }
   ],
   "source": [
    "from pprint import pprint\n",
    "import copy\n",
    "#reusing your setup validation code\n",
    "def validate_setup(d):\n",
    "    \"\"\"\n",
    "    Validate keys and top-level types of values for game setup dictionary, raising a\n",
    "      KeyError or TypeError if invalid, otherwise silent.\n",
    "    Does not distinguish list or tuple types of snakes/ladders pairs.\n",
    "    Does not check other data constraints, such as snakes or ladder pair values being\n",
    "      not equal or clashing with another pair's values.\n",
    "    \"\"\"\n",
    "    keys = sorted(d.keys())\n",
    "    need_keys = sorted(['size', 'snakes', 'ladders', 'diesides', 'name', 'URL'])\n",
    "    if keys != need_keys:\n",
    "        raise KeyError(\"Correct keys not present in setup dictionary\")\n",
    "    if not isinstance(d['size'], int):\n",
    "        raise TypeError(\"'size' must be int\")\n",
    "    if not isinstance(d['diesides'], int):\n",
    "        raise TypeError(\"'diesides' must be int\")\n",
    "    active = [False]*101 # my code! used to make sure there is only one link per tile\n",
    "    for kind in ('snakes', 'ladders'):\n",
    "        if isinstance(d[kind], (list, tuple)):\n",
    "            try:\n",
    "                for i1, i2 in d[kind]:\n",
    "                    if active[i1] or active[i2]: #raises an error when there's more than one link per square\n",
    "                        raise TypeError(\"Maximum of one link per square\")\n",
    "                    active[i1]=True # mine. records that this square has a link\n",
    "                    active[i2]=True # mine. same as above\n",
    "                    # this loop is agnostic about type of sequence\n",
    "                    if not isinstance(i1+i2, int):\n",
    "                        raise TypeError(\"'{}' must be a sequence of pairs of ints\".format(kind))\n",
    "            except ValueError:\n",
    "                # too many or not enough values to unpack from d['snakes']\n",
    "                raise TypeError(\"'{}' must be a sequence of pairs of ints\".format(kind))\n",
    "        else:\n",
    "            raise TypeError(\"'{}' must be a sequence of pairs of ints\".format(kind))\n",
    "    return True\n",
    "\n",
    "# Takes in a board, and returns a dict of setups with one link between 35 and 36 varied from -5 to +5 in start. The key is how they are varied.\n",
    "def vary_game(setup):\n",
    "    chosen_snake = (0,0)\n",
    "    for snake in setup['snakes']:\n",
    "        if snake[0] > 35 and snake[0] < 65:\n",
    "            chosen_snake = snake\n",
    "            break\n",
    "    new_games = []\n",
    "    for adjust in range(-5,6):\n",
    "            new_game = copy.deepcopy(setup)\n",
    "            new_game['snakes'].remove(chosen_snake)\n",
    "            new_game['snakes'].append([chosen_snake[0]+adjust,chosen_snake[1]])\n",
    "            new_game['name'] = [new_game['name'] + ' + {}'.format(adjust)]\n",
    "            try:\n",
    "                validate_setup(new_game)\n",
    "                new_games.append(new_game)\n",
    "            except TypeError:\n",
    "                pass\n",
    "    return new_games\n",
    "\n",
    "vary_game(setups[1])\n",
    "\n"
   ]
  },
  {
   "cell_type": "markdown",
   "metadata": {},
   "source": [
    "Having learned my lesson from earlier regarding specific code vs general functions, I created a general function that outputs a list of boards with one link adjusted from -5 to +5 from an input board.\n",
    "\n",
    "I reused your validate_setup function from the other notebook so that I can easily ignore all the invalid games created by the adjustment."
   ]
  },
  {
   "cell_type": "markdown",
   "metadata": {},
   "source": [
    "### 6.2"
   ]
  },
  {
   "cell_type": "code",
   "execution_count": 39,
   "metadata": {
    "collapsed": false
   },
   "outputs": [],
   "source": [
    "#import csv_utils\n",
    "#import make_game\n",
    "\n",
    "#varied_recurrences = []\n",
    "#varied_games = vary_game(setups[1])\n",
    "#for i in range(len(varied_games)):\n",
    "#    varied_recurrences.append([])\n",
    "\n",
    "#for game in varied_games:\n",
    "#    data = csv_utils.multi_run(make_game.make_game_from_dict(game), 1000)\n",
    "#    csv_utils.save_csv(data, 'varied_data_{0}.csv'.format(varied_games.index(game)))"
   ]
  },
  {
   "cell_type": "markdown",
   "metadata": {},
   "source": [
    "Here I create the run data for all of my varied games (it turns out there is only six). I split this up with the next part because it takes a while, and I don't want to regenerate new data every time. Note that I do it in a much neater and more pythonic way, using list comprehension to produce a single list that contains all my data through nesting.\n",
    "\n",
    "NOTE: DON'T RUN THIS. It will change my data. That's why it's commented."
   ]
  },
  {
   "cell_type": "code",
   "execution_count": 46,
   "metadata": {
    "collapsed": false
   },
   "outputs": [
    {
     "name": "stdout",
     "output_type": "stream",
     "text": [
      "0.0% complete with board 1\n",
      "10.0% complete with board 1\n",
      "20.0% complete with board 1\n",
      "30.0% complete with board 1\n",
      "40.0% complete with board 1\n",
      "50.0% complete with board 1\n",
      "60.0% complete with board 1\n",
      "70.0% complete with board 1\n",
      "80.0% complete with board 1\n",
      "90.0% complete with board 1\n",
      "0.0% complete with board 2\n",
      "10.0% complete with board 2\n",
      "20.0% complete with board 2\n",
      "30.0% complete with board 2\n",
      "40.0% complete with board 2\n",
      "50.0% complete with board 2\n",
      "60.0% complete with board 2\n",
      "70.0% complete with board 2\n",
      "80.0% complete with board 2\n",
      "90.0% complete with board 2\n",
      "0.0% complete with board 3\n",
      "10.0% complete with board 3\n",
      "20.0% complete with board 3\n",
      "30.0% complete with board 3\n",
      "40.0% complete with board 3\n",
      "50.0% complete with board 3\n",
      "60.0% complete with board 3\n",
      "70.0% complete with board 3\n",
      "80.0% complete with board 3\n",
      "90.0% complete with board 3\n",
      "0.0% complete with board 4\n",
      "10.0% complete with board 4\n",
      "20.0% complete with board 4\n",
      "30.0% complete with board 4\n",
      "40.0% complete with board 4\n",
      "50.0% complete with board 4\n",
      "60.0% complete with board 4\n",
      "70.0% complete with board 4\n",
      "80.0% complete with board 4\n",
      "90.0% complete with board 4\n",
      "0.0% complete with board 5\n",
      "10.0% complete with board 5\n",
      "20.0% complete with board 5\n",
      "30.0% complete with board 5\n",
      "40.0% complete with board 5\n",
      "50.0% complete with board 5\n",
      "60.0% complete with board 5\n",
      "70.0% complete with board 5\n",
      "80.0% complete with board 5\n",
      "90.0% complete with board 5\n",
      "0.0% complete with board 6\n",
      "10.0% complete with board 6\n",
      "20.0% complete with board 6\n",
      "30.0% complete with board 6\n",
      "40.0% complete with board 6\n",
      "50.0% complete with board 6\n",
      "60.0% complete with board 6\n",
      "70.0% complete with board 6\n",
      "80.0% complete with board 6\n",
      "90.0% complete with board 6\n"
     ]
    }
   ],
   "source": [
    "import csv_utils\n",
    "\n",
    "varied_recurrences = []\n",
    "new_data = []\n",
    "for i in range(6):\n",
    "    new_data.append(csv_utils.load_csv('varied_data_{}.csv'.format(i)))\n",
    "varied_games = vary_game(setups[1])\n",
    "for board in varied_games:\n",
    "    varied_recurrences.append([])\n",
    "    for run in range(len(new_data[0])):\n",
    "        run_recurrences = {0: 0}\n",
    "        if (run % 100 == 0):\n",
    "            print(\"{0}% complete with board {1}\".format(run/10, varied_games.index(board)+1))\n",
    "        varied_start_set = [snake[0] for snake in board['snakes']]\n",
    "        for start in varied_start_set:\n",
    "            run_recurrences[start] = (count_use(new_data[varied_games.index(board)][run], start))\n",
    "        varied_recurrences[varied_games.index(board)].append(run_recurrences)\n",
    "\n",
    "\n",
    "    "
   ]
  },
  {
   "cell_type": "markdown",
   "metadata": {},
   "source": [
    "This is where I generate the raw recurrence data for each board like I did before. It's still not a general function, but it's closer to one than before. The code is neater and more general. The only hardcoded aspects are the varied_games list and the new_data list. In the form I wrote it here, it is fairly simple just to change those three variables to reuse the code."
   ]
  },
  {
   "cell_type": "code",
   "execution_count": 49,
   "metadata": {
    "collapsed": false
   },
   "outputs": [
    {
     "name": "stdout",
     "output_type": "stream",
     "text": [
      "count    1000.000000\n",
      "mean        5.160000\n",
      "std         5.650339\n",
      "min         0.000000\n",
      "25%         1.000000\n",
      "50%         3.000000\n",
      "75%         7.000000\n",
      "max        42.000000\n",
      "Name: -5, dtype: float64\n",
      "\n",
      "count    1000.00000\n",
      "mean        4.68100\n",
      "std         4.99722\n",
      "min         0.00000\n",
      "25%         1.00000\n",
      "50%         3.00000\n",
      "75%         7.00000\n",
      "max        33.00000\n",
      "Name: -4, dtype: float64\n",
      "\n",
      "count    1000.000000\n",
      "mean        4.580000\n",
      "std         4.950971\n",
      "min         0.000000\n",
      "25%         1.000000\n",
      "50%         3.000000\n",
      "75%         6.000000\n",
      "max        27.000000\n",
      "Name: -1, dtype: float64\n",
      "\n",
      "count    1000.000000\n",
      "mean        4.516000\n",
      "std         5.036776\n",
      "min         0.000000\n",
      "25%         1.000000\n",
      "50%         3.000000\n",
      "75%         7.000000\n",
      "max        36.000000\n",
      "Name: 0, dtype: float64\n",
      "\n",
      "count    1000.00000\n",
      "mean        4.47700\n",
      "std         5.12462\n",
      "min         0.00000\n",
      "25%         1.00000\n",
      "50%         3.00000\n",
      "75%         6.00000\n",
      "max        32.00000\n",
      "Name: 1, dtype: float64\n",
      "\n",
      "count    1000.000000\n",
      "mean        4.029000\n",
      "std         4.576582\n",
      "min         0.000000\n",
      "25%         1.000000\n",
      "50%         2.000000\n",
      "75%         6.000000\n",
      "max        28.000000\n",
      "Name: 3, dtype: float64\n",
      "\n"
     ]
    }
   ],
   "source": [
    "recur_data = []        \n",
    "for data in varied_recurrences:\n",
    "    namestring = varied_games[varied_recurrences.index(data)]['name'][0]\n",
    "    namestring = namestring[24:]\n",
    "    df = pandas.DataFrame(data)\n",
    "    df_2 = df.sum(axis = 1)\n",
    "    df_2.name = namestring\n",
    "    recur_data.append(df_2)\n",
    "\n",
    "\n",
    "\n",
    "for df in list(recur_data):\n",
    "    print(df.describe())\n",
    "    print(\"\")"
   ]
  },
  {
   "cell_type": "markdown",
   "metadata": {},
   "source": [
    "Only 6 boards were valid. The -5 board had an average loopiness of 5.16; the -4, 4.68; the -1, 4.58, the unadjusted board (which I felt was useful to include for comparison) 4.51; the +1, 4.47; the +3, 4.03. This is obeys a downward trend with a higher adjust:"
   ]
  },
  {
   "cell_type": "code",
   "execution_count": 76,
   "metadata": {
    "collapsed": false
   },
   "outputs": [
    {
     "data": {
      "text/plain": [
       "<matplotlib.axes._subplots.AxesSubplot at 0x19e42160>"
      ]
     },
     "execution_count": 76,
     "metadata": {},
     "output_type": "execute_result"
    },
    {
     "data": {
      "image/png": "[encoded data removed]",
      "text/plain": [
       "<matplotlib.figure.Figure at 0x11f5df28>"
      ]
     },
     "metadata": {},
     "output_type": "display_data"
    }
   ],
   "source": [
    "loop_df = pandas.DataFrame([data.mean() for data in recur_data], index=[data.name for data in recur_data])\n",
    "loop_df.plot()"
   ]
  },
  {
   "cell_type": "markdown",
   "metadata": {},
   "source": [
    "Additionally, number of 2-cycles decreased with adjust. Moving the start of the snake past -3 and -2 must have caused a certain pair to not be a 2-cycle."
   ]
  },
  {
   "cell_type": "code",
   "execution_count": 19,
   "metadata": {
    "collapsed": false,
    "scrolled": true
   },
   "outputs": [
    {
     "name": "stdout",
     "output_type": "stream",
     "text": [
      "    0\n",
      "-5  2\n",
      "-4  2\n",
      "-1  1\n",
      "0   1\n",
      "1   1\n",
      "3   1\n"
     ]
    }
   ],
   "source": [
    "cycle_data = []\n",
    "for setup in varied_games:\n",
    "    cycle_data.append([setup['name'][0][24:], detect_2_cycles(setup)])\n",
    "\n",
    "cycle_df = pandas.DataFrame([data[1] for data in cycle_data], index = [data[0] for data in cycle_data])\n",
    "print(cycle_df)"
   ]
  },
  {
   "cell_type": "markdown",
   "metadata": {},
   "source": [
    "Moving the snake start up clearly negatively correlates with loopiness, which seems counterintuitive at first. But loopiness is truly the measure of how often a snake is hit; therefore, moving the snake head up causes it to be hit less. Knowing this, we can hypothesize that snakes at higher points are be hit less often. The 2-cycle data does not say much very definitively, due to its low frequency. However, there could be a correlation between 2-cycles and loopiness, as they both correlate negatively with adjustment."
   ]
  }
 ],
 "metadata": {
  "kernelspec": {
   "display_name": "Python 3",
   "language": "python",
   "name": "python3"
  },
  "language_info": {
   "codemirror_mode": {
    "name": "ipython",
    "version": 3
   },
   "file_extension": ".py",
   "mimetype": "text/x-python",
   "name": "python",
   "nbconvert_exporter": "python",
   "pygments_lexer": "ipython3",
   "version": "3.5.1"
  }
 },
 "nbformat": 4,
 "nbformat_minor": 0
}
