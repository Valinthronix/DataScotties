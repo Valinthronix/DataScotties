{
 "cells": [
  {
   "cell_type": "markdown",
   "metadata": {},
   "source": [
    "# 1. Different editions of the game"
   ]
  },
  {
   "cell_type": "markdown",
   "metadata": {},
   "source": [
    "## 1.1"
   ]
  },
  {
   "cell_type": "code",
   "execution_count": 2,
   "metadata": {
    "collapsed": false
   },
   "outputs": [],
   "source": [
    "import json\n",
    "import os\n",
    "\n",
    "A = {\n",
    "    'size': 100,\n",
    "    'diesides' : 6,\n",
    "    'snakes' : [(16,6), (47,26), (49,11 ), (56,53), (62,19), (64,60), (87,24), (93,73), (95,75), (98, 78)],\n",
    "    'ladders' : [(1, 38), (4, 14), (9, 31), (28, 84), (21, 42), (36, 44), (51, 67), (71, 81), (80, 100)],\n",
    "    'name' : \"Milton Bradley\",\n",
    "    'URL' : \"https://upload.wikimedia.org/wikipedia/en/b/ba/Cnl03.jpg\"\n",
    "}\n",
    "\n",
    "B = {\n",
    "    'size': 100,\n",
    "    'diesides' : 6,\n",
    "    'snakes' : [(73, 1), (46, 5), (55, 7), (48, 9), (59, 17), (83, 19), (44, 22), (95, 24), (98, 28), (69, 33), (64, 36), (92, 51)], \n",
    "    'ladders' : [(8, 26), (21, 82), (43, 77), (50, 91), (54, 93), (66, 87), (62, 96), (60, 100)],\n",
    "    'name' : 'Random online example',\n",
    "    'URL' : \"http://2.bp.blogspot.com/-BAXe2vGFAEo/UxFsY8PwCAI/AAAAAAAAE0c/uHRwHjY8lwk/s1600/Snakes&Ladders-Nationalseriesgames.jpg\"\n",
    "}\n",
    "\n",
    "C = {\n",
    "    'size': 100,\n",
    "    'diesides' : 6,\n",
    "    'snakes' : [(6, 4), (10, 7), (20, 18), (38, 13), (44, 8), (52, 28), (68, 65), (74, 51), (82, 45), (98, 75)],\n",
    "    'ladders' : [(2, 25), (19, 53), (21, 48), (32, 46), (43, 50), (59, 83), (66, 71), (79, 90), (89, 96), (94, 95)],\n",
    "    'name' : 'custom',\n",
    "    'URL' : None\n",
    "}\n",
    "\n",
    "setup_list = [A, B, C]\n",
    "\n",
    "with open('setups.json', 'w') as setups:\n",
    "    json.dump(setup_list, setups, indent = 4)"
   ]
  },
  {
   "cell_type": "markdown",
   "metadata": {},
   "source": [
    "Section 1 is pretty simple. I define my three game sets, and export them as a .json file. One is the famous Milton-Bradley board, the second is a random one I found online, and the last is one I made myself. The custom one is not just random; I followed a couple rules like \"one snake and ladder per level\" and \"max link size 40\".\n",
    "\n",
    "I don't just dump it as a string into json using json.dumps, I actually dump it into a .json file. This is important, as I reference the setups later during my loopiness testing."
   ]
  },
  {
   "cell_type": "markdown",
   "metadata": {},
   "source": [
    "## 1.2"
   ]
  },
  {
   "cell_type": "code",
   "execution_count": 4,
   "metadata": {
    "collapsed": true
   },
   "outputs": [],
   "source": [
    "def validate_setup(d):\n",
    "    \"\"\"\n",
    "    Validate keys and top-level types of values for game setup dictionary, raising a\n",
    "      KeyError or TypeError if invalid, otherwise silent.\n",
    "    Does not distinguish list or tuple types of snakes/ladders pairs.\n",
    "    Does not check other data constraints, such as snakes or ladder pair values being\n",
    "      not equal or clashing with another pair's values.\n",
    "    \"\"\"\n",
    "    keys = sorted(d.keys())\n",
    "    need_keys = sorted(['size', 'snakes', 'ladders', 'diesides', 'name', 'URL'])\n",
    "    if keys != need_keys:\n",
    "        raise KeyError(\"Correct keys not present in setup dictionary\")\n",
    "    if not isinstance(d['size'], int):\n",
    "        raise TypeError(\"'size' must be int\")\n",
    "    if not isinstance(d['diesides'], int):\n",
    "        raise TypeError(\"'diesides' must be int\")\n",
    "    active = [False]*101 # my code! used to make sure there is only one link per tile\n",
    "    for kind in ('snakes', 'ladders'):\n",
    "        if isinstance(d[kind], (list, tuple)):\n",
    "            try:\n",
    "                for i1, i2 in d[kind]:\n",
    "                    if active[i1] or active[i2]: #raises an error when there's more than one link per square\n",
    "                        raise TypeError(\"Maximum of one link per square\")\n",
    "                    active[i1]=True # mine. records that this square has a link\n",
    "                    active[i2]=True # mine. same as above\n",
    "                    # this loop is agnostic about type of sequence\n",
    "                    if not isinstance(i1+i2, int):\n",
    "                        raise TypeError(\"'{}' must be a sequence of pairs of ints\".format(kind))\n",
    "            except ValueError:\n",
    "                # too many or not enough values to unpack from d['snakes']\n",
    "                raise TypeError(\"'{}' must be a sequence of pairs of ints\".format(kind))\n",
    "        else:\n",
    "            raise TypeError(\"'{}' must be a sequence of pairs of ints\".format(kind))\n",
    "    return True\n",
    "\n",
    "    \n",
    "        \n",
    "def standardize_setup(d):\n",
    "    # don't standardize if valid\n",
    "    validate_setup(d)\n",
    "    r = d.copy() # copy\n",
    "    r['snakes'] = [tuple(p) for p in d['snakes']]\n",
    "    r['ladders'] = [tuple(p) for p in d['ladders']]\n",
    "    return r\n",
    "\n",
    "# You did this a different way in class, but I didn't want to bother to look it up and this gives the same result\n",
    "# this actually compares any sort of nested lists, dicts, or tuples\n",
    "def dict_compare(a, b):\n",
    "    result = True\n",
    "    for i in a:\n",
    "        try: \n",
    "            if sorted(a[i]) == sorted(b[i]):\n",
    "                pass\n",
    "            else:\n",
    "                result = False\n",
    "        except TypeError:\n",
    "            if a[i] == b[i]:\n",
    "                pass\n",
    "            else:\n",
    "                result = False\n",
    "    return result "
   ]
  },
  {
   "cell_type": "markdown",
   "metadata": {},
   "source": [
    "I altered the validate_setup code so that it raises a TypeError if there is more than one link per square. To do this, I created a list of all squares that contained whether they were \"active\" or not, and made every part of every link active. If a square is already active, it raises a TypeError.\n",
    "\n",
    "I did the dict_comparison a little different from how you did it in class, because I had my own on hand and it works just as well. Mine is not specific to our game; it actually compares whether any sort of nested lists are the same."
   ]
  },
  {
   "cell_type": "code",
   "execution_count": 5,
   "metadata": {
    "collapsed": false,
    "scrolled": false
   },
   "outputs": [
    {
     "name": "stdout",
     "output_type": "stream",
     "text": [
      "True\n",
      "True\n",
      "True\n",
      "False\n",
      "False\n",
      "False\n"
     ]
    }
   ],
   "source": [
    "print(validate_setup(A))\n",
    "print(validate_setup(B))\n",
    "print(validate_setup(C))\n",
    "\n",
    "print(dict_compare(A, B))\n",
    "print(dict_compare(B, C))\n",
    "print(dict_compare(A, C))"
   ]
  },
  {
   "cell_type": "markdown",
   "metadata": {},
   "source": [
    "The three Trues indicate that each setup is valid (I did tinker with setup C a bit, it wasn't valid at first), and the three Falses indicate that they are different."
   ]
  },
  {
   "cell_type": "markdown",
   "metadata": {},
   "source": [
    "# 2. Creating the Simulation Data"
   ]
  },
  {
   "cell_type": "markdown",
   "metadata": {},
   "source": [
    "### 2.1"
   ]
  },
  {
   "cell_type": "code",
   "execution_count": 5,
   "metadata": {
    "collapsed": false
   },
   "outputs": [
    {
     "name": "stdout",
     "output_type": "stream",
     "text": [
      "   ladders  snakes\n",
      "A        9      10\n",
      "B        8      12\n",
      "C       10      10\n"
     ]
    }
   ],
   "source": [
    "import pandas\n",
    "\n",
    "def count_snakes(setup):\n",
    "    return len(setup['snakes'])\n",
    "\n",
    "def count_ladders(setup):\n",
    "    return len(setup['ladders'])\n",
    "\n",
    "\n",
    "snakes_ladders_df = pandas.DataFrame({'snakes' : [count_snakes(setup) for setup in setup_list], \n",
    "                                      'ladders' : [count_ladders(setup) for setup in setup_list]},\n",
    "                                    index = ['A', 'B', 'C'])\n",
    "\n",
    "print(snakes_ladders_df)"
   ]
  },
  {
   "cell_type": "markdown",
   "metadata": {},
   "source": [
    "Honestly, this wasn't too much trouble. In an earlier version, I didn't even bother writing functions for each and just entered len(setup['ladders']) directly into the DataFrame constructor, but this is closer to the wording of the problem. Notably, I used list comprehension to create my DataFrame."
   ]
  },
  {
   "cell_type": "markdown",
   "metadata": {},
   "source": [
    "### 2.2"
   ]
  },
  {
   "cell_type": "code",
   "execution_count": 18,
   "metadata": {
    "collapsed": false
   },
   "outputs": [],
   "source": [
    "import SnakesLadders as sl\n",
    "from make_game import make_game_from_dict\n",
    "import csv_utils\n",
    "\n",
    "game_A = make_game_from_dict(A)\n",
    "game_B = make_game_from_dict(B)\n",
    "game_C = make_game_from_dict(C)\n",
    "\n",
    "games=[game_A, game_B, game_C]\n",
    "i = 0\n",
    "for game in games:\n",
    "    labels = ['A', 'B', 'C']\n",
    "    csv_utils.save_csv(csv_utils.multi_run(game, 1000), '{}_data.csv'.format(labels[i]))\n",
    "    i += 1"
   ]
  },
  {
   "cell_type": "markdown",
   "metadata": {},
   "source": [
    "The actual data creation! This takes a while. I use multirun to run the games I just made, then your save_csv() util to export it to csv. i is just a labelling variable. \n",
    "\n",
    "NOTE: DON'T RUN THIS. IT WILL CAUSE DIFFERENT DATA TO APPEAR THAN THE SET I USED, because it runs all the games again."
   ]
  }
 ],
 "metadata": {
  "kernelspec": {
   "display_name": "Python 3",
   "language": "python",
   "name": "python3"
  },
  "language_info": {
   "codemirror_mode": {
    "name": "ipython",
    "version": 3
   },
   "file_extension": ".py",
   "mimetype": "text/x-python",
   "name": "python",
   "nbconvert_exporter": "python",
   "pygments_lexer": "ipython3",
   "version": "3.5.1"
  }
 },
 "nbformat": 4,
 "nbformat_minor": 0
}
