{
 "cells": [
  {
   "cell_type": "markdown",
   "metadata": {},
   "source": [
    "# 3. Basic Comparisons of Editions"
   ]
  },
  {
   "cell_type": "code",
   "execution_count": null,
   "metadata": {
    "collapsed": true
   },
   "outputs": [],
   "source": [
    "import csv_utils\n",
    "import pandas as pd\n",
    "\n",
    "A_data = csv_utils.load_csv('A_data.csv')\n",
    "B_data = csv_utils.load_csv('B_data.csv')\n",
    "C_data = csv_utils.load_csv('C_data.csv')\n",
    "\n",
    "all_data = [A_data, B_data, C_data]"
   ]
  },
  {
   "cell_type": "code",
   "execution_count": null,
   "metadata": {
    "collapsed": true
   },
   "outputs": [],
   "source": [
    "## do stats"
   ]
  },
  {
   "cell_type": "markdown",
   "metadata": {},
   "source": [
    "# 4. Define \"Loopiness\" of a Game"
   ]
  },
  {
   "cell_type": "markdown",
   "metadata": {},
   "source": [
    "### 4.1"
   ]
  },
  {
   "cell_type": "code",
   "execution_count": null,
   "metadata": {
    "collapsed": false
   },
   "outputs": [],
   "source": [
    "import json\n",
    "\n",
    "# Counts the number of times a specific snake/ladder was used in ONE game\n",
    "def count_use(df, start):\n",
    "    count = 0\n",
    "    for i in range(len(df)):\n",
    "        if df['start'][i] + df['die'][i] == start:\n",
    "            count += 1\n",
    "    return count\n",
    "\n",
    "# Assuming my setups are contained in \n",
    "#def count_recurrence(data, setup)\n",
    "#    for\n",
    "\n",
    "#recurrence_data = {}\n",
    "#recurrence_data['A'] = count_recurrence(A_data, 'A')\n",
    "\n",
    "setups = json.load(open('setups.json', 'r'))\n",
    "A_starts = setups[0]['snakes']+setups[0]['ladders']\n",
    "B_starts = setups[1]['snakes']+setups[1]['ladders']\n",
    "C_starts = setups[2]['snakes']+setups[2]['ladders']\n",
    "\n",
    "starts_set = [A_starts, B_starts, C_starts]\n",
    "A_recurrence = []\n",
    "B_recurrence = []\n",
    "C_recurrence = []\n",
    "\n",
    "recurrences = [A_recurrence, B_recurrence, C_recurrence]\n",
    "for i in range(3):\n",
    "    for start in starts_set[i]:\n",
    "        for j in range(len(all_data[i])):\n",
    "            count_use(all_data[i][j], start)"
   ]
  },
  {
   "cell_type": "code",
   "execution_count": null,
   "metadata": {
    "collapsed": true
   },
   "outputs": [],
   "source": []
  }
 ],
 "metadata": {
  "kernelspec": {
   "display_name": "Python 3",
   "language": "python",
   "name": "python3"
  },
  "language_info": {
   "codemirror_mode": {
    "name": "ipython",
    "version": 3
   },
   "file_extension": ".py",
   "mimetype": "text/x-python",
   "name": "python",
   "nbconvert_exporter": "python",
   "pygments_lexer": "ipython3",
   "version": "3.5.1"
  }
 },
 "nbformat": 4,
 "nbformat_minor": 0
}
