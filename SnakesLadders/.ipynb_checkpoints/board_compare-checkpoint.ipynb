{
 "cells": [
  {
   "cell_type": "markdown",
   "metadata": {},
   "source": [
    "## Protocol for defining Snakes and Ladders game board setup\n",
    "\n",
    "Dictionary of keys (strings) --> values:\n",
    " - size: `<int>`,\n",
    " - snakes: `<sequence of integer pairs>`,\n",
    " - ladders: `<sequence of integer pairs>`,\n",
    " - diesides: `<int>`,\n",
    " - name: `<str>`,\n",
    " - URL: `<str>`\n",
    " \n",
    "Integer pairs `(a,b)` must satisfy `a != b` and no values of `a` or `b` can repeat in *either* sequence."
   ]
  },
  {
   "cell_type": "code",
   "execution_count": 38,
   "metadata": {
    "collapsed": true
   },
   "outputs": [],
   "source": [
    "def validate_setup(d):\n",
    "    \"\"\"\n",
    "    Validate keys and top-level types of values for game setup dictionary, raising a\n",
    "      KeyError or TypeError if invalid, otherwise silent.\n",
    "    Does not distinguish list or tuple types of snakes/ladders pairs.\n",
    "    Does not check other data constraints, such as snakes or ladder pair values being\n",
    "      not equal or clashing with another pair's values.\n",
    "    \"\"\"\n",
    "    keys = sorted(d.keys())\n",
    "    need_keys = sorted(['size', 'snakes', 'ladders', 'diesides', 'name', 'URL'])\n",
    "    if keys != need_keys:\n",
    "        raise KeyError(\"Correct keys not present in setup dictionary\")\n",
    "    if not isinstance(d['size'], int):\n",
    "        raise TypeError(\"'size' must be int\")\n",
    "    if not isinstance(d['diesides'], int):\n",
    "        raise TypeError(\"'diesides' must be int\")\n",
    "    for kind in ('snakes', 'ladders'):\n",
    "        if isinstance(d[kind], (list, tuple)):\n",
    "            try:\n",
    "                for i1, i2 in d[kind]:\n",
    "                    # this loop is agnostic about type of sequence\n",
    "                    if not isinstance(i1+i2, int):\n",
    "                        raise TypeError(\"'{}' must be a sequence of pairs of ints\".format(kind))\n",
    "            except ValueError:\n",
    "                # too many or not enough values to unpack from d['snakes']\n",
    "                raise TypeError(\"'{}' must be a sequence of pairs of ints\".format(kind))\n",
    "        else:\n",
    "            raise TypeError(\"'{}' must be a sequence of pairs of ints\".format(kind))\n",
    "\n",
    "    \n",
    "        \n",
    "def standardize_setup(d):\n",
    "    # don't standardize if valid\n",
    "    validate_setup(d)\n",
    "    r = d.copy() # copy\n",
    "    r['snakes'] = [tuple(p) for p in d['snakes']]\n",
    "    r['ladders'] = [tuple(p) for p in d['ladders']]\n",
    "    return r\n",
    "    "
   ]
  },
  {
   "cell_type": "code",
   "execution_count": 27,
   "metadata": {
    "collapsed": true
   },
   "outputs": [],
   "source": [
    "A = {'size': 16, \n",
    "    'snakes': [(11,4), (15,6)],\n",
    "    'ladders': [(2,10),(8,14)],\n",
    "    'diesides': 4,\n",
    "    'name': \"Rob's game\",\n",
    "    'URL': \"\"\n",
    "        }\n",
    "\n",
    "B = {'size': 16, \n",
    "    'snakes': [(15,6), (11,4)],\n",
    "    'ladders': ((2,10),(8,14)),\n",
    "    'diesides': 4,\n",
    "    'name': \"\",\n",
    "    'URL': \"\"\n",
    "        }\n",
    "\n",
    "# Criterion: A represents the same game as B\n",
    "\n",
    "C = {'size': 16, \n",
    "    'snakes':[(11,5), (15,6)],\n",
    "    'ladders':[(4,10),(8,14)],\n",
    "    'diesides': 4,\n",
    "    'name': \"Rob's game\",\n",
    "    'URL': \"\"\n",
    "        }\n",
    "\n",
    "# Criterion: A does not represent the same game as C\n",
    "\n",
    "D = {'size': 16, \n",
    "    'snakes': [[11,5], [15,6]], \n",
    "    'ladders': [[4,10], [8,14]],\n",
    "    'diesides': 4,\n",
    "    'name': \"list-only version\",\n",
    "    'URL': \"\"\n",
    "        }\n",
    "\n",
    "# Criterion: D represents the same game as A\n",
    "\n",
    "E_invalid = {'size': 'h', \n",
    "    'snakes': [[11,5], [15,6]], \n",
    "    'ladders': [[4,10], [8,14]],\n",
    "    'diesides': 4}"
   ]
  },
  {
   "cell_type": "code",
   "execution_count": 17,
   "metadata": {
    "collapsed": true
   },
   "outputs": [],
   "source": [
    "def compare_SL_setup(d1, d2):\n",
    "    # only 4 keys we care about\n",
    "    test1 = d1['size'] == d2['size']\n",
    "    test2 = d1['diesides'] == d2['diesides']\n",
    "    test3 = sorted(d1['snakes']) == sorted(d2['snakes'])\n",
    "    test4 = sorted(d1['ladders']) == sorted(d2['ladders'])\n",
    "    return test1 and test2 and test3 and test4\n",
    "    "
   ]
  },
  {
   "cell_type": "markdown",
   "metadata": {},
   "source": [
    "An effective way to test data structure criteria is through assertions"
   ]
  },
  {
   "cell_type": "code",
   "execution_count": 19,
   "metadata": {
    "collapsed": false
   },
   "outputs": [],
   "source": [
    "assert compare_SL_setup(A, B)\n",
    "assert not compare_SL_setup(A, C)"
   ]
  },
  {
   "cell_type": "code",
   "execution_count": 6,
   "metadata": {
    "collapsed": true
   },
   "outputs": [],
   "source": [
    "import json\n",
    "with open('game_setup1.json', 'w') as fp:\n",
    "    # auto-closes file at end of 'with' block\n",
    "    json.dump(A, fp)"
   ]
  },
  {
   "cell_type": "code",
   "execution_count": 39,
   "metadata": {
    "collapsed": false
   },
   "outputs": [],
   "source": [
    "with open('game_setup1.json', 'r') as fp:\n",
    "    d = standardize_setup(json.load(fp))"
   ]
  },
  {
   "cell_type": "code",
   "execution_count": 41,
   "metadata": {
    "collapsed": false
   },
   "outputs": [
    {
     "data": {
      "text/plain": [
       "{u'URL': u'',\n",
       " u'diesides': 4,\n",
       " u'ladders': [(2, 10), (8, 14)],\n",
       " u'name': u\"Rob's game\",\n",
       " u'size': 16,\n",
       " u'snakes': [(11, 4), (15, 6)]}"
      ]
     },
     "execution_count": 41,
     "metadata": {},
     "output_type": "execute_result"
    }
   ],
   "source": [
    "standardize_setup(d)"
   ]
  }
 ],
 "metadata": {
  "kernelspec": {
   "display_name": "Python 3",
   "language": "python",
   "name": "python3"
  },
  "language_info": {
   "codemirror_mode": {
    "name": "ipython",
    "version": 3
   },
   "file_extension": ".py",
   "mimetype": "text/x-python",
   "name": "python",
   "nbconvert_exporter": "python",
   "pygments_lexer": "ipython3",
   "version": "3.5.1"
  }
 },
 "nbformat": 4,
 "nbformat_minor": 0
}
