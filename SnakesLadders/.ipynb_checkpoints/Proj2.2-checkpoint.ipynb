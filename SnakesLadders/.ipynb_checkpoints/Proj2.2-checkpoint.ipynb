{
 "cells": [
  {
   "cell_type": "markdown",
   "metadata": {},
   "source": [
    "# 5. Another Measure of Recurrent Behavior"
   ]
  },
  {
   "cell_type": "markdown",
   "metadata": {},
   "source": [
    "### 5.1"
   ]
  },
  {
   "cell_type": "code",
   "execution_count": 2,
   "metadata": {
    "collapsed": false
   },
   "outputs": [
    {
     "ename": "ImportError",
     "evalue": "No module named 'Proj'",
     "output_type": "error",
     "traceback": [
      "\u001b[1;31m---------------------------------------------------------------------------\u001b[0m",
      "\u001b[1;31mImportError\u001b[0m                               Traceback (most recent call last)",
      "\u001b[1;32m<ipython-input-2-b848057867a5>\u001b[0m in \u001b[0;36m<module>\u001b[1;34m()\u001b[0m\n\u001b[1;32m----> 1\u001b[1;33m \u001b[1;32mimport\u001b[0m \u001b[0mProj\u001b[0m\u001b[1;33m.\u001b[0m\u001b[0mipynb\u001b[0m\u001b[1;33m\u001b[0m\u001b[0m\n\u001b[0m\u001b[0;32m      2\u001b[0m \u001b[1;33m\u001b[0m\u001b[0m\n\u001b[0;32m      3\u001b[0m \u001b[1;32mdef\u001b[0m \u001b[0mdetect_2_cycles\u001b[0m\u001b[1;33m(\u001b[0m\u001b[0msetup\u001b[0m\u001b[1;33m)\u001b[0m\u001b[1;33m:\u001b[0m\u001b[1;33m\u001b[0m\u001b[0m\n\u001b[0;32m      4\u001b[0m     \u001b[0mlink\u001b[0m \u001b[1;33m=\u001b[0m \u001b[1;33m[\u001b[0m\u001b[1;33m]\u001b[0m\u001b[1;33m\u001b[0m\u001b[0m\n\u001b[0;32m      5\u001b[0m     \u001b[0mcycles\u001b[0m \u001b[1;33m=\u001b[0m \u001b[1;36m0\u001b[0m\u001b[1;33m\u001b[0m\u001b[0m\n",
      "\u001b[1;31mImportError\u001b[0m: No module named 'Proj'"
     ]
    }
   ],
   "source": [
    "import Proj.ipynb\n",
    "\n",
    "def detect_2_cycles(setup):\n",
    "    link = []\n",
    "    cycles = 0\n",
    "    for i in range(setup['size']):\n",
    "        link[i] = i\n",
    "    snakes = setup['snakes']\n",
    "    for snake in snakes:\n",
    "        link[snake[0]] = snake[1]\n",
    "    ladders = setup['ladders']\n",
    "    for ladder in ladders:\n",
    "        link[ladder[0]] = ladder[1]\n",
    "    step\n",
    "    for ladder in ladders:\n",
    "        step = ladder[1]\n",
    "        while True:\n",
    "            if link[step] < ladder[0]:\n",
    "                jump_before = False\n",
    "                for second_step in range(kind[step], ladder[0]):\n",
    "                    if link[second_step] != second_step:\n",
    "                        jump_before = True\n",
    "                if jump_before == False:\n",
    "                    cycles += 1\n",
    "                    break\n",
    "            elif link[step] > step:\n",
    "                break\n",
    "            else:\n",
    "                step += 1\n",
    "    return cycles\n",
    "        \n",
    "            \n",
    "                        "
   ]
  }
 ],
 "metadata": {
  "kernelspec": {
   "display_name": "Python 3",
   "language": "python",
   "name": "python3"
  },
  "language_info": {
   "codemirror_mode": {
    "name": "ipython",
    "version": 3
   },
   "file_extension": ".py",
   "mimetype": "text/x-python",
   "name": "python",
   "nbconvert_exporter": "python",
   "pygments_lexer": "ipython3",
   "version": "3.5.1"
  }
 },
 "nbformat": 4,
 "nbformat_minor": 0
}
